{
 "cells": [
  {
   "cell_type": "markdown",
   "id": "8cc2efae",
   "metadata": {
    "tags": []
   },
   "source": [
    "# Wstęp do programowania\n",
    "\n",
    "## Lista 7\n",
    "\n",
    "Uzupełnij swoje dane poniżej, następnie przeczytaj treść zadań i umieść rozwiązania w odpowidenich komórkach pozostawionych w tym celu pod treścią. Pamiętaj dbać o specyfikację, czyli nazwy zmiennych oraz odpowiednie rozmieszczenie komórek. Jeśli uruchomisz wszystkie komórki, dokument powinien działać bez błędów.<br>\n",
    "Możesz (ale nie musisz) korzystać ze wszystkiego, co wiesz, czyli możesz definiować funkcje, używać instrukcji warunkowych itd. itp. "
   ]
  },
  {
   "cell_type": "markdown",
   "id": "0b0a9d9f",
   "metadata": {},
   "source": [
    "  * **Imię:** Dominika\n",
    "  * **Nazwisko:** Szulc\n",
    "  * **Numer indeksu:** 277507"
   ]
  },
  {
   "cell_type": "markdown",
   "id": "ef0689cc",
   "metadata": {},
   "source": [
    "Napisz program, który znajduje wszystkie rzeczywiste rozwiązania równania:\n",
    "$$ax^2+bx+c=0$$\n",
    "zadanego przez zmienne `a`, `b` i `c`. Możesz utworzyć dowolnie wiele zmiennych pomocniczych (pod warunkiem, że będzie ich skończenie wiele)."
   ]
  },
  {
   "cell_type": "code",
   "execution_count": 1,
   "id": "8b599eb5",
   "metadata": {
    "tags": []
   },
   "outputs": [],
   "source": [
    "a=1\n",
    "b=2\n",
    "c=1"
   ]
  },
  {
   "cell_type": "markdown",
   "id": "2fdf5aa8",
   "metadata": {},
   "source": [
    "Rozwiązanie:"
   ]
  },
  {
   "cell_type": "code",
   "execution_count": 9,
   "id": "d443ecff",
   "metadata": {
    "tags": []
   },
   "outputs": [
    {
     "name": "stdout",
     "output_type": "stream",
     "text": [
      "x0 = -1.0\n"
     ]
    }
   ],
   "source": [
    "import math\n",
    "# x nie ma wpływu na równanie, tylko zmienne a, b i c\n",
    "\n",
    "# a*x**2 + b*x + c == 0\n",
    "\n",
    "delta = b**2 - 4*a*c\n",
    "\n",
    "if delta>0:\n",
    "    x1 = (-b + math.sqrt(delta))/2*a\n",
    "    x2 = (-b - math.sqrt(delta))/2*a\n",
    "    print(f'x1 = {x1}, x2 = {x2}')\n",
    "elif delta == 0:\n",
    "    x0 = -b/2*a\n",
    "    print(f'x0 = {x0}')\n",
    "else:\n",
    "    print(\"Brak rozwiązań rzeczywistych podanego rówania\")"
   ]
  },
  {
   "cell_type": "markdown",
   "id": "c8e39835",
   "metadata": {},
   "source": [
    "### Zadanie 2\n",
    "\n",
    "Oblicz pole czworokąta o zadanych wierzchołkach, zapisanych w zmiennych `A`, `B`, `C` oraz `D`."
   ]
  },
  {
   "cell_type": "code",
   "execution_count": 1,
   "id": "55f8d464",
   "metadata": {
    "tags": []
   },
   "outputs": [],
   "source": [
    "A = (0,0)\n",
    "B = (0,3)\n",
    "C = (1,1)\n",
    "D = (4,0)"
   ]
  },
  {
   "cell_type": "markdown",
   "id": "563633e8",
   "metadata": {},
   "source": [
    "_Rozwiązanie umieść poniżej, po wywołaniu komórki odpowiedź powinna być zapisana w zmiennej `pole`. Możesz utworzyć dowolnie wiele zmiennych pomocniczych._"
   ]
  },
  {
   "cell_type": "code",
   "execution_count": 6,
   "id": "9a999c35",
   "metadata": {
    "tags": []
   },
   "outputs": [],
   "source": [
    "# każdy czworokąt możemy podzielić na dwa trójkąty\n",
    "# wtedy pole tego czworokąta będzie równe sumie pól tych trójkątów\n",
    "# wzór na pole trójkąta ABC P = 0.5*math.abs((xb - xa)*(yc - ya) - (yb - ya)*(xc - xa))\n",
    "# zawsze jednym trójkątem będzie ABC, a drugim ADC\n",
    "\n",
    "xa = A[0]\n",
    "ya = A[1]\n",
    "xb = B[0]\n",
    "yb = B[1]\n",
    "xc = C[0]\n",
    "yc = C[1]\n",
    "xd = D[0]\n",
    "yd = D[1]\n",
    "\n",
    "P1 = 0.5*abs((xb - xa)*(yc - ya) - (yb - ya)*(xc - xa))\n",
    "P2 = 0.5*abs((xd - xa)*(yc - ya) - (yd - ya)*(xc - xa))\n",
    "pole = P1 + P2"
   ]
  },
  {
   "cell_type": "markdown",
   "id": "7ea6c421",
   "metadata": {},
   "source": [
    "**Odpowiedź:** Pole wynosi"
   ]
  },
  {
   "cell_type": "code",
   "execution_count": 7,
   "id": "9759c47a",
   "metadata": {},
   "outputs": [
    {
     "data": {
      "text/plain": [
       "3.5"
      ]
     },
     "execution_count": 7,
     "metadata": {},
     "output_type": "execute_result"
    }
   ],
   "source": [
    "pole"
   ]
  },
  {
   "cell_type": "markdown",
   "id": "04bea9c5",
   "metadata": {},
   "source": [
    "### Zadanie 3\n",
    "\n",
    "Wielkanoc jest świętem ruchomym. Jest co najmniej kilka algorytmów pozwalających wyznaczyć datę wielkanocy w danym roku kalendarzowym, jednym z nich jest <a href=\"http://www.algorytm.org/przetwarzanie-dat/wyznaczanie-daty-wielkanocy-metoda-meeusa-jonesa-butchera.html\">algorytm Meeusa/Jonesa/Butchera</a>\n",
    "\n",
    "#### Podpunkt a\n",
    "\n",
    "Oblicz datę wielkanocy w przyszłym roku kalendarzowym"
   ]
  },
  {
   "cell_type": "code",
   "execution_count": 3,
   "id": "14c08b3b",
   "metadata": {},
   "outputs": [],
   "source": [
    "R1 = 2024"
   ]
  },
  {
   "cell_type": "markdown",
   "id": "c6780412",
   "metadata": {},
   "source": [
    "_Rozwiązanie umieść poniżej, po wywołaniu komórki odpowiedź powinna być zapisana w zmiennej `wielkanoc` (samodzielnie zaproponuj \"typ\" tej zmiennej). Możesz utworzyć dowolnie wiele zmiennych pomocniczych._"
   ]
  },
  {
   "cell_type": "code",
   "execution_count": 2,
   "id": "cac2ee36",
   "metadata": {},
   "outputs": [],
   "source": [
    "import math\n",
    "\n",
    "def kiedy_wielkanoc(R):\n",
    "    a = R%19\n",
    "    b = math.floor(R/100)\n",
    "    c = R%100\n",
    "    d = math.floor(b/4)\n",
    "    e = b%4\n",
    "    f = math.floor((b+8)/25)\n",
    "    g = math.floor((b-f+1)/3)\n",
    "    h = (19*a+b-d-g+15)%30\n",
    "    i = math.floor(c/4)\n",
    "    k = c%4\n",
    "    l = (32+2*e+2*i-h-k)%7\n",
    "    m = math.floor((a+11*h+22*l)/451)\n",
    "    p = (h+l-7*m+114)%31\n",
    "    \n",
    "    D = p+1 # dzień\n",
    "    \n",
    "    M = math.floor((h+l-7*m+114)/31) # miesiąc\n",
    "    \n",
    "    wielkanoc = [D, M, R]\n",
    "    \n",
    "    return wielkanoc"
   ]
  },
  {
   "cell_type": "markdown",
   "id": "46b36a1b",
   "metadata": {},
   "source": [
    "Wpisz kod wypisujący całym zdaniem odpowiedź na pytanie, kiedy będzie wielkanoc w zadanym roku:"
   ]
  },
  {
   "cell_type": "code",
   "execution_count": 10,
   "id": "ec33f30c",
   "metadata": {},
   "outputs": [
    {
     "name": "stdout",
     "output_type": "stream",
     "text": [
      "Wielkanoc będzie 31.3.2024.\n"
     ]
    }
   ],
   "source": [
    "wielkanoc = kiedy_wielkanoc(R1)\n",
    "print(f\"Wielkanoc będzie {wielkanoc[0]}.{wielkanoc[1]}.{wielkanoc[2]}.\")"
   ]
  },
  {
   "cell_type": "markdown",
   "id": "95b546de",
   "metadata": {},
   "source": [
    "#### Podpunkt b\n",
    "\n",
    "Sprawdź, w którym roku w bieżącym wieku wielkanoc przypada najpóźniej (w sensie miesiąca i dnia). Najlepiej, gdyby odpowiedź w całości potrafił znaleźć Twój program."
   ]
  },
  {
   "cell_type": "code",
   "execution_count": 4,
   "id": "c08be3d9",
   "metadata": {},
   "outputs": [
    {
     "name": "stdout",
     "output_type": "stream",
     "text": [
      "(25, 4) 2038\n"
     ]
    }
   ],
   "source": [
    "najpóźniejsza_data = (0,0) # 'początkowa' data, względem której będziemy porównywać pierwszą dat\n",
    "rok = 0 # 'początkowy' rok\n",
    "\n",
    "for R in range (2000, 3000):\n",
    "    najpóźniej = kiedy_wielkanoc(R)\n",
    "    if (najpóźniej[1] > najpóźniejsza_data[1]) or (najpóźniej[1] == najpóźniejsza_data[1] and najpóźniej[0] > najpóźniejsza_data[0]):\n",
    "        \n",
    "        \"\"\"\n",
    "        sprawdzamy czy obecny miesiąc jest najpóźniejszy, jeśli tak to teraz porównujemy względem niego\n",
    "        jeśli miesiąc jest taki sam, to sprawdzamy, czy obecny dzień jest najpóźniejszy i teraz porównujemy względem niego\n",
    "        \"\"\"\n",
    "        \n",
    "        najpóźniejsza_data = (najpóźniej[0], najpóźniej[1])\n",
    "        najpóźniejszy_rok = R\n",
    "print(najpóźniejsza_data, najpóźniejszy_rok)"
   ]
  },
  {
   "cell_type": "markdown",
   "id": "85451b64",
   "metadata": {},
   "source": [
    "### Zadanie 4\n",
    "\n",
    "Godziny wschodu i zachodu słońca dla danej długości i szerokości geograficznej można wyliczyć korzystając ze <a href=\"http://cybermoon.pl/wiedza/algorithms/wschody_slonca2.html\">znanych algorytmów</a>. Napisz program, który wylicza godzinę wschodu i zachodu słońca we Wrocławiu (może być dla ustalenia uwagi godzina dla budynku Wydziału Matematyki) w dniu jego (programu) uruchomienia.<BR><BR>\n",
    "<I>Podpowiedź:</I>"
   ]
  },
  {
   "cell_type": "code",
   "execution_count": null,
   "id": "1acafbad",
   "metadata": {
    "scrolled": true
   },
   "outputs": [],
   "source": [
    "import datetime\n",
    "\n",
    "x = datetime.datetime.now()\n",
    "\"Dziś jest {d}.{m}.{r}\".format(d=x.day,m=x.month,r=x.year)"
   ]
  },
  {
   "cell_type": "markdown",
   "id": "c1e242b4",
   "metadata": {},
   "source": [
    "Rozwiązanie:"
   ]
  },
  {
   "cell_type": "code",
   "execution_count": 11,
   "id": "30466634",
   "metadata": {},
   "outputs": [
    {
     "data": {
      "text/plain": [
       "'Dzisiaj słońce wschodzi o godzinie 7.51, a zachodzi o 15.45.'"
      ]
     },
     "execution_count": 11,
     "metadata": {},
     "output_type": "execute_result"
    }
   ],
   "source": [
    "import datetime\n",
    "import math\n",
    "\n",
    "x = datetime.datetime.now()\n",
    "\n",
    "szer = 51.107963\n",
    "dlu = 17.057336\n",
    "\n",
    "n3 = math.pi/180\n",
    "o3 = 57.29577951\n",
    "d5 = x.year\n",
    "d6 = x.month\n",
    "d7 = x.day\n",
    "\n",
    "e6 = d6+12 if d6<=2 else d6\n",
    "e7 = d5-1 if d6<=2 else d5\n",
    "\n",
    "l5 = math.floor(d5/100)\n",
    "l6 = 2 - l5 + math.floor(l5/4)\n",
    "l7 = math.floor(365.25*(e7+4716)) + math.floor(30.6001*(e6+1)) + d7 + l6 - 1524.5\n",
    "m3 = (l7-2451545) / 36525\n",
    "m4 = 280.46646 + 36000.76983 * m3 + 0.0003032 * m3**2\n",
    "m5 = 357.52911 + 35999.05029 * m3 - 0.0001537 * m3**2\n",
    "n5 = m5/360\n",
    "o5 = (n5 - math.floor(n5)) * 360\n",
    "m6 = (1.914602 - 0.004817*m3**2) * math.sin(o5*n3)\n",
    "m7 = (0.019993 - 0.000101 * m3) * math.sin(o5*n3)\n",
    "m8 = 0.000289 * math.sin(3*o5*n3)\n",
    "m9 = m6 + m7 + m8\n",
    "n4 = m4 / 360\n",
    "o4 = (n4 - math.floor(n4)) * 360\n",
    "n6 = o4 + m9\n",
    "n7 = 125.04 - 1934.136 * m3\n",
    "\n",
    "n9 = n7 + 360 if n7<0 else n7\n",
    "\n",
    "n10 = n6 - 0.00569 - 0.00478 * math.sin(n9*n3)\n",
    "m11 = 23.43930278 - 0.0130042 * m3 - 0.000000163* m3**2\n",
    "n11 = math.sin(m11*n3) * math.sin(n10*n3)\n",
    "n12 = math.asin(n11) * 180 / math.pi\n",
    "n15 = dlu / 15\n",
    "o15 = szer\n",
    "m13 = (7.7 * math.sin((o4+78) * n3) - 9.5 * math.sin(2*o4*n3)) / 60\n",
    "o16 = math.cos(n12*n3) * math.cos(o15*n3)\n",
    "n16 = -0.01483 - math.sin(n12*n3) * math.sin(o15*n3)\n",
    "p15 = 2 * (math.acos(n16/o16)*o3) / 15\n",
    "\n",
    "pol = 13 - n15 + m13\n",
    "wschód = pol - p15/2\n",
    "zachód = pol + p15/2 # mamy wynik w częściach 1/100 a chcemy mieć minuty liczbą całkowitą, więc musimy pomnożyć część po przecinku przez 60\n",
    "\n",
    "godzina_wschód = math.floor(wschód)\n",
    "godzina_zachód = math.floor(zachód)\n",
    "\n",
    "minuty_wschód = math.floor((wschód - godzina_wschód) * 60)\n",
    "minuty_zachód = math.floor((zachód - godzina_zachód) * 60)\n",
    "\n",
    "\"Dzisiaj słońce wschodzi o godzinie {w}.{wm}, a zachodzi o {z}.{zm}.\".format(w = godzina_wschód, wm = minuty_wschód, z = godzina_zachód, zm = minuty_zachód)"
   ]
  },
  {
   "cell_type": "markdown",
   "id": "354f367d",
   "metadata": {},
   "source": [
    "### Zadanie 5\n",
    "\n",
    "Załóżmy, że zakładamy $n$-letnią lokatę na $p$ procent w skali roku z $m$ kapitalizacjami w ciągu roku. Oznacza to, że po dowolnym spośród $n\\cdot m$ okresów kapitalizacji, zarobimy $\\frac{p}{m}$ procent (bank zaokrągli kwotę w dół do pełnych groszy). Następnie, odliczony zostanie podatek od dochodów kapitałowych (19%). Kwota po odliczeniu podatku zostanie ponownie zaokrąglona do pełnych groszy w dół i doliczona do początkowego kapitału, który będzie „pracował” w kolejnym okresie kapitalizacji.\n",
    "\n",
    "##### Podpunkt a\n",
    "\n",
    "Dla uproszczenia pomińmy chwilowo dwa miejsca, w których zaokrąglamy kwoty w dół do pełnych groszy.\n",
    "\n",
    "Ile procent początkowej kwoty zarobi każda z poniższych lokat?\n",
    "\n",
    "  * dwuletnia na 2.3% w skali roku z rocznym okresem kapitalizacji,"
   ]
  },
  {
   "cell_type": "code",
   "execution_count": 7,
   "id": "5cf1bbe4-cea5-45d4-b51c-7138697ae409",
   "metadata": {},
   "outputs": [],
   "source": [
    "# n - liczba lat\n",
    "# m - liczba kapitalizacji w ciągu roku\n",
    "# m*n - liczba okresów kapitalizacji\n",
    "# p/m - zarobiomy procent\n",
    "# 19% - podatek, więc mnożymy razy 81%\n",
    "# mnożenie przez 100, żeby mieć wartość w procentach\n",
    "\n",
    "def procent(n, p, m):\n",
    "    procent = (0.81 * (1 + p/m)**(n*m) - 0.19) * 100\n",
    "    return procent"
   ]
  },
  {
   "cell_type": "code",
   "execution_count": 8,
   "id": "662f559a",
   "metadata": {},
   "outputs": [
    {
     "data": {
      "text/plain": [
       "65.76884899999999"
      ]
     },
     "execution_count": 8,
     "metadata": {},
     "output_type": "execute_result"
    }
   ],
   "source": [
    "n1 = 2\n",
    "p1 = 0.023\n",
    "m1 = 1\n",
    "\n",
    "procent1 = procent(n1, p1, m1)\n",
    "procent1"
   ]
  },
  {
   "cell_type": "markdown",
   "id": "6dde023f",
   "metadata": {},
   "source": [
    "   * dwuletnia na 2.25% w skali roku z półrocznym okresem kapitalizacji,\n"
   ]
  },
  {
   "cell_type": "code",
   "execution_count": 9,
   "id": "b53d40a2",
   "metadata": {},
   "outputs": [
    {
     "data": {
      "text/plain": [
       "65.70697199277589"
      ]
     },
     "execution_count": 9,
     "metadata": {},
     "output_type": "execute_result"
    }
   ],
   "source": [
    "n2 = 2\n",
    "p2 = 0.0225\n",
    "m2 = 2\n",
    "\n",
    "procent2 = procent(n2, p2, m2)\n",
    "procent2"
   ]
  },
  {
   "cell_type": "markdown",
   "id": "f0793ea2",
   "metadata": {},
   "source": [
    "  * dwuletnia na 2.2% w skali roku z kwartalnym okresem kapitalizacji,"
   ]
  },
  {
   "cell_type": "code",
   "execution_count": 11,
   "id": "4810ebd8",
   "metadata": {},
   "outputs": [
    {
     "data": {
      "text/plain": [
       "65.63336688829628"
      ]
     },
     "execution_count": 11,
     "metadata": {},
     "output_type": "execute_result"
    }
   ],
   "source": [
    "n3 = 2\n",
    "p3 = 0.022\n",
    "m3 = 4\n",
    "\n",
    "procent3 = procent(n3, p3, m3)\n",
    "procent3"
   ]
  },
  {
   "cell_type": "markdown",
   "id": "5cf46a9e",
   "metadata": {},
   "source": [
    "  * dwuletnia na 2.15% w skali roku z dziennym okresem kapitalizacji (zakładamy, że lokata trwa dwa razy po 365 dni)."
   ]
  },
  {
   "cell_type": "code",
   "execution_count": 12,
   "id": "e839b855",
   "metadata": {},
   "outputs": [
    {
     "data": {
      "text/plain": [
       "65.55886239845303"
      ]
     },
     "execution_count": 12,
     "metadata": {},
     "output_type": "execute_result"
    }
   ],
   "source": [
    "n4 = 2\n",
    "p4 = 0.0215\n",
    "m4 = 365\n",
    "\n",
    "procent4 = procent(n4, p4, m4)\n",
    "procent4"
   ]
  },
  {
   "cell_type": "markdown",
   "id": "8f5e8e7a",
   "metadata": {},
   "source": [
    "#### Podpunkt b\n",
    "\n",
    "Tym razem nie pomijamy zaokrągleń w dół do pełnych groszy. Na lokatę wpłacamy 1000,00PLN. Ile złotych (i groszy) zarobią następujące lokaty?\n",
    "\n",
    "  * dwuletnia na 2.3% w skali roku z rocznym okresem kapitalizacji,"
   ]
  },
  {
   "cell_type": "code",
   "execution_count": 37,
   "id": "6a25a83a-6144-4780-b1e8-5ed46942ce5f",
   "metadata": {
    "tags": []
   },
   "outputs": [],
   "source": [
    "import math\n",
    "\n",
    "def zysk(n, p, m, kwota):\n",
    "    procent = (0.81 * (1 + p/m)**(n*m) - 0.19)\n",
    "    zysk = round((kwota * (1 + procent)), 2)\n",
    "    return zysk"
   ]
  },
  {
   "cell_type": "code",
   "execution_count": 38,
   "id": "801bddd6",
   "metadata": {},
   "outputs": [
    {
     "data": {
      "text/plain": [
       "1657.69"
      ]
     },
     "execution_count": 38,
     "metadata": {},
     "output_type": "execute_result"
    }
   ],
   "source": [
    "n5 = 2\n",
    "p5 = 0.023\n",
    "m5 = 1\n",
    "kwota5 = 1000\n",
    "\n",
    "zysk5 = zysk(n5, p5, m5, kwota5)\n",
    "zysk5"
   ]
  },
  {
   "cell_type": "markdown",
   "id": "1a42cc8c",
   "metadata": {},
   "source": [
    "  *  dwuletnia na 2.25% w skali roku z półrocznym okresem kapitalizacji."
   ]
  },
  {
   "cell_type": "code",
   "execution_count": 39,
   "id": "354f98bc",
   "metadata": {},
   "outputs": [
    {
     "data": {
      "text/plain": [
       "1657.07"
      ]
     },
     "execution_count": 39,
     "metadata": {},
     "output_type": "execute_result"
    }
   ],
   "source": [
    "n6 = 2\n",
    "p6 = 0.0225\n",
    "m6 = 2\n",
    "kwota6 = 1000\n",
    "\n",
    "zysk6 = zysk(n6, p6, m6, kwota6)\n",
    "zysk6"
   ]
  },
  {
   "cell_type": "markdown",
   "id": "a565c546",
   "metadata": {},
   "source": [
    "<div style=\"text-align: right\"> Powodzenia!<br><i>Zespół kursu Wstęp do programowania</i></div>"
   ]
  }
 ],
 "metadata": {
  "kernelspec": {
   "display_name": "Python 3 (ipykernel)",
   "language": "python",
   "name": "python3"
  },
  "language_info": {
   "codemirror_mode": {
    "name": "ipython",
    "version": 3
   },
   "file_extension": ".py",
   "mimetype": "text/x-python",
   "name": "python",
   "nbconvert_exporter": "python",
   "pygments_lexer": "ipython3",
   "version": "3.11.5"
  }
 },
 "nbformat": 4,
 "nbformat_minor": 5
}
