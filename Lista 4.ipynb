{
 "cells": [
  {
   "cell_type": "markdown",
   "id": "817cd8f2",
   "metadata": {},
   "source": [
    "# Wstęp do programowania\n",
    "## Lista 4\n",
    "\n",
    "Uzupełnij swoje dane poniżej, następnie przeczytaj treść zadań i umieść rozwiązania w odpowidenich komórkach pozostawionych w tym celu pod treścią. Pamiętaj dbać o specyfikację, czyli nazwy zmiennych oraz odpowiednie rozmieszczenie komórek. Jeśli uruchomisz wszystkie komórki, dokument powinien działać bez błędów."
   ]
  },
  {
   "cell_type": "markdown",
   "id": "76926f19",
   "metadata": {},
   "source": [
    "  * **Imię:** Dominika\n",
    "  * **Nazwisko:** Szulc\n",
    "  * **Numer indeksu:** 277507"
   ]
  },
  {
   "cell_type": "markdown",
   "id": "f179d9a1",
   "metadata": {},
   "source": [
    "W rozwiązaniach zadań możesz korzystać z biblioteki `math`."
   ]
  },
  {
   "cell_type": "code",
   "execution_count": 2,
   "id": "2ceefa09",
   "metadata": {
    "tags": []
   },
   "outputs": [],
   "source": [
    "import math"
   ]
  },
  {
   "cell_type": "markdown",
   "id": "e7d3ab53",
   "metadata": {},
   "source": [
    "### Zadanie 1\n",
    "\n",
    "Przypomnij sobie zadanie o dniu juliańskim z pierwszej listy.\n",
    "\n",
    "#### podpunkt a\n",
    "\n",
    "Zaimplementuj funkcję `dzień_juliański(D, M, R)` zwracającą dzień juliański odpowiadający podanej dacie. Rozwiązanie umieść w komórce poniżej."
   ]
  },
  {
   "cell_type": "code",
   "execution_count": 4,
   "id": "da8c1758",
   "metadata": {
    "tags": []
   },
   "outputs": [],
   "source": [
    "def dzień_juliański(D, M, R):\n",
    "    a = math.floor((14 - M)/12)\n",
    "    m = M + 12*a - 3\n",
    "    y = R + 4800 - a\n",
    "    dzień_juliański = D + math.floor((153*m + 2)/5) + 365*y + math.floor(y/4) - math.floor(y/100) + math.floor(y/400) - 32045\n",
    "    return dzień_juliański"
   ]
  },
  {
   "cell_type": "code",
   "execution_count": 5,
   "id": "5e3df9c3-035d-4136-b7e2-f6a390fbad53",
   "metadata": {
    "tags": []
   },
   "outputs": [
    {
     "data": {
      "text/plain": [
       "2460290"
      ]
     },
     "execution_count": 5,
     "metadata": {},
     "output_type": "execute_result"
    }
   ],
   "source": [
    "dzień_juliański(11,12,2023)"
   ]
  },
  {
   "cell_type": "markdown",
   "id": "551e1ff2",
   "metadata": {},
   "source": [
    "#### podpunkt b\n",
    "\n",
    "Zaimplementuj funkcję `ile_dni(data1, data2)` obliczającą, ile dni upłynęło pomiędzy dwiema datami, gdzie daty podane są jako krotki `(D, M, R)`. Wykorzystaj funkcję zaimplementowaną w poprzednim podpunkcie. Przykładowe wywołanie\n",
    "```python\n",
    "print(ile_dni((4, 11, 2021), (6, 12, 2021)))\n",
    "```\n",
    "powinno dać w wyniku liczbę 32.\n",
    "\n",
    "Podpowiedź: użyj funkcji napisanej w podpunkcie a.\n",
    "\n",
    "Rozwiązanie umieść w komórce poniżej."
   ]
  },
  {
   "cell_type": "code",
   "execution_count": 7,
   "id": "2e3525e3",
   "metadata": {
    "tags": []
   },
   "outputs": [],
   "source": [
    "def ile_dni(data1, data2):\n",
    "    data_1 = dzień_juliański(data1[0], data1[1], data1[2])\n",
    "    data_2 = dzień_juliański(data2[0], data2[1], data2[2])\n",
    "    \n",
    "    ile_dni = abs(data_1 - data_2)\n",
    "    \n",
    "    return ile_dni"
   ]
  },
  {
   "cell_type": "code",
   "execution_count": 6,
   "id": "34417d82",
   "metadata": {
    "tags": []
   },
   "outputs": [
    {
     "data": {
      "text/plain": [
       "32"
      ]
     },
     "execution_count": 6,
     "metadata": {},
     "output_type": "execute_result"
    }
   ],
   "source": [
    "ile_dni((4, 11, 2021), (6, 12, 2021))"
   ]
  },
  {
   "cell_type": "code",
   "execution_count": 8,
   "id": "b313369e-364c-48d7-8a02-71eca2f0a597",
   "metadata": {
    "tags": []
   },
   "outputs": [
    {
     "data": {
      "text/plain": [
       "1"
      ]
     },
     "execution_count": 8,
     "metadata": {},
     "output_type": "execute_result"
    }
   ],
   "source": [
    "ile_dni((11, 12, 2023), (12,12, 2023))"
   ]
  },
  {
   "cell_type": "markdown",
   "id": "50cbdbe6",
   "metadata": {},
   "source": [
    "### Zadanie 2\n",
    "\n",
    "#### Podpunkt a\n",
    "\n",
    "Napisz funkcję `fizz_buzz(x)`, która dla liczby naturalnej `x` zwraca napis:\n",
    "\n",
    "  - \"Fizz\" dla liczb podzielnych przez 3,\n",
    "  - \"Buzz\" dla liczb podzielnych przez 5,\n",
    "  - \"Fizz Buzz\" dla liczb jednocześnie podzielnych przez 3 i 5,\n",
    "  - napis oznaczający liczbę w pozostałych przypadkach, np.: \"4\" dla `x=4`.\n",
    "\n",
    "Podpowiedź: użyj wyrażenia warunkowego, operatora reszty z dzielenia oraz operatora `or`.\n",
    "\n",
    "Rozwiązanie umieść w komórce poniżej."
   ]
  },
  {
   "cell_type": "code",
   "execution_count": 23,
   "id": "2685a83c",
   "metadata": {
    "tags": []
   },
   "outputs": [],
   "source": [
    "def fizz_buzz(x):\n",
    "    if x%3 == 0 and x%5 == 0:\n",
    "        return \"Fizz Buzz\"\n",
    "    elif x%3 == 0:\n",
    "        return \"Fizz\"\n",
    "    elif x%5 == 0:\n",
    "        return \"Buzz\"\n",
    "    else:\n",
    "        return str(x) # or jeśli conajmniej jedno jest prawdą to całość jest prawdą, and jeśli oba są prawdziwe"
   ]
  },
  {
   "cell_type": "code",
   "execution_count": 24,
   "id": "f29d8eef",
   "metadata": {
    "tags": []
   },
   "outputs": [
    {
     "data": {
      "text/plain": [
       "'47'"
      ]
     },
     "execution_count": 24,
     "metadata": {},
     "output_type": "execute_result"
    }
   ],
   "source": [
    "fizz_buzz(47)"
   ]
  },
  {
   "cell_type": "markdown",
   "id": "94dcb4c2",
   "metadata": {},
   "source": [
    "#### Podpunkt b\n",
    "\n",
    "Stwórz listę napisów zgodnych z opisem powyżej dla liczb naturalnych dodatnich od $1$ do $100$.\n",
    "\n",
    "Podpowiedź: skorzystaj z list składanych.\n",
    "\n",
    "Rozwiązanie umieść w komórce poniżej."
   ]
  },
  {
   "cell_type": "code",
   "execution_count": 26,
   "id": "69144a42",
   "metadata": {
    "tags": []
   },
   "outputs": [
    {
     "name": "stdout",
     "output_type": "stream",
     "text": [
      "['1', '2', 'Fizz', '4', 'Buzz', 'Fizz', '7', '8', 'Fizz', 'Buzz', '11', 'Fizz', '13', '14', 'Fizz Buzz', '16', '17', 'Fizz', '19', 'Buzz', 'Fizz', '22', '23', 'Fizz', 'Buzz', '26', 'Fizz', '28', '29', 'Fizz Buzz', '31', '32', 'Fizz', '34', 'Buzz', 'Fizz', '37', '38', 'Fizz', 'Buzz', '41', 'Fizz', '43', '44', 'Fizz Buzz', '46', '47', 'Fizz', '49', 'Buzz', 'Fizz', '52', '53', 'Fizz', 'Buzz', '56', 'Fizz', '58', '59', 'Fizz Buzz', '61', '62', 'Fizz', '64', 'Buzz', 'Fizz', '67', '68', 'Fizz', 'Buzz', '71', 'Fizz', '73', '74', 'Fizz Buzz', '76', '77', 'Fizz', '79', 'Buzz', 'Fizz', '82', '83', 'Fizz', 'Buzz', '86', 'Fizz', '88', '89', 'Fizz Buzz', '91', '92', 'Fizz', '94', 'Buzz', 'Fizz', '97', '98', 'Fizz', 'Buzz']\n"
     ]
    }
   ],
   "source": [
    "lista = [fizz_buzz(x) for x in range(1, 101) if fizz_buzz(x)]\n",
    "print(lista)"
   ]
  },
  {
   "cell_type": "code",
   "execution_count": null,
   "id": "9555f933-4ac1-4c14-b467-f7f988a1b09c",
   "metadata": {},
   "outputs": [],
   "source": []
  },
  {
   "cell_type": "markdown",
   "id": "87e972a7",
   "metadata": {},
   "source": [
    "### Zadanie 3\n",
    "\n",
    "Naszym celem jest napisanie programu, który sortuje punkty na płaszczyźnie względem ich odległości od prostej $y=x$. Chcemy, aby najpierw w liście znalazły się punkty najbliżej prostej, na końcu punkty najdalej od prostej. Jeśli lubisz geometrię i chcesz sam zmierzyć się z tym problemem, możesz przejść do podpunktu a zadania. Jeśli nie chcecsz lub nie udało się go znaleźć, możesz kontynuować opis.\n",
    "\n",
    "Ponieważ prosta $y=x$ jest nachylona do osi OX pod kątem $45^\\circ$, licząc odległość punktu $A = (a, b)$ od prostej, musimy wyznaczyć prostą prostopadłą do $y=x$ przechodzącą przez punkt $A$. Jej równanie będzie postaci $y=-x+c$ dla pewnego $c$. Podstawiając współrzędne $(a, b)$ punktu $A$ do równania $y=-x+c$ otrzymujemy $b = -a+c$, czyli $c=a+b$. Oznacza to, że prosta prostopadła do $y=x$ przechodząca przez punkt $A=(a, b)$ ma równanie $y=-x+(a+b)$. Aby znaleźć punkt przecięcia prostych, rozwiązujemy układ równań\n",
    "$$\\begin{cases} y = x,\\\\ y=-x+(a+b).\\end{cases}$$\n",
    "Rozwiązaniem układu równań jest punkt $P=(x_P, y_P) = \\left(\\frac{a+b}{2},\\frac{a+b}{2}\\right)$. Odległość pomiędzy punktami jest równa\n",
    "$$ \\begin{split}d(A, P) &= \\sqrt{(a-x_P)^2 + (b-y_P)^2} = \\sqrt{\\left(a-\\frac{a+b}{2}\\right)^2 + \\left(b-\\frac{a+b}{2}\\right)^2} \\\\&= \\sqrt{\\left(\\frac{a-b}{2}\\right)^2 + \\left(\\frac{b-a}{2}\\right)^2}= \\sqrt{2\\cdot \\left(\\frac{a-b}{2}\\right)^2 } = \\frac{|a-b|}{\\sqrt{2}}.\\end{split}$$\n",
    "Ponieważ sortujemy, stała nie gra roli, zatem punkt $A=(a, b)$ położony najdalej od prostej $y=x$ to ten, dla którego największa jest wartość $|a-b|$. Podobnie, najbliżej prostej $y=x$ leży ten punkt, dla którego moduł różnicy współrzędnych jest najmniejszy. W szczególności, jeśli $|a-b|=0$, punkt leży na prostej.\n",
    "\n",
    "#### podpunkt a\n",
    "\n",
    "Przypomnij sobie materiał o funkcji `sorted` i metodzie `sort` z wykładu oraz o krotkach. Ponieważ sortowanie domyślnie odbywa się w porządku rosnącym, a krotki porządkowane są leksykograficznie, czyli ich sortowanie odbywa się najpierw po pierwszej współrzędnej, jednym z pomysłów na rozwiązanie postawionego problemu jest dla listy punktów\n",
    "$$[A_1, A_2, A_3, \\ldots, A_n],$$\n",
    "stworzenie listy\n",
    "$$[(d_1, A_1), (d_2, A_2), (d_3, A_3), \\ldots, (d_n, A_n)],$$\n",
    "gdzie $d_i$ jest proporcjonalne do odległości punktu $A_i$ od prostej $y=x$. Następnie taką listę będziemy mogli posortować. Pierwszy jej element będzie postaci $(d_k, A_k)$, gdzie $d_k$ będzie najmniejszą odległością a $A_k$ będzie punktem najbliżej prostej $y=x$.\n",
    "\n",
    "Zaimplementuj ten pomysł wstawiając fragmenty kodu w miejsca wielokropków. Postaraj się nie modyfikować innych fragmentów funkcji."
   ]
  },
  {
   "cell_type": "code",
   "execution_count": 24,
   "id": "e0cae480",
   "metadata": {
    "tags": []
   },
   "outputs": [],
   "source": [
    "def sortuj_punkty(punkty):\n",
    "    # przygotuj listę punktów z odległością\n",
    "    punkty_dist = [(abs(a-b), (a,b)) for a,b in punkty] # (odległość, współrzędne podanego punktu)\n",
    "    # posortuj punkty w miejscu, bez tworzenia dodatkowej listy\n",
    "    punkty_dist.sort() # sortujemy rosnąco listę punktów względem pierwszego elementu krotek - odległość (d, (a,b))\n",
    "    # zwróć same punkty bez odległości\n",
    "    return [punkt for odległość, punkt in punkty_dist] # _ oznacza pomijanie pierwszego elementu krotki, dzięki czemu funkcja zwraca punkty bez odległości"
   ]
  },
  {
   "cell_type": "markdown",
   "id": "6947f0a2-f27c-42b8-851d-85ab6b633577",
   "metadata": {},
   "source": [
    "#### podpunkt b\n",
    "Wymyśl 3 przykłady użycia pozwalające sprawdzić, że dobrze zaimplementowałeś sortowanie."
   ]
  },
  {
   "cell_type": "code",
   "execution_count": 25,
   "id": "3b7f9e0c-36eb-4e15-a589-c2c44cc7eb4c",
   "metadata": {
    "tags": []
   },
   "outputs": [
    {
     "name": "stdout",
     "output_type": "stream",
     "text": [
      "[(0, 0), (1, 3), (5, 12)]\n"
     ]
    }
   ],
   "source": [
    "punkty1 = [(1,3), (0,0), (5,12)]\n",
    "wynik = sortuj_punkty(punkty1)\n",
    "print(wynik) # zwraca punkty w kolejność najbliżej prostej y=x po te najdalej od niej"
   ]
  },
  {
   "cell_type": "code",
   "execution_count": 26,
   "id": "302e52d1-06ec-45be-9d07-7d12fa83428d",
   "metadata": {
    "tags": []
   },
   "outputs": [
    {
     "name": "stdout",
     "output_type": "stream",
     "text": [
      "[(-1, -1), (9, 0), (0, 12)]\n"
     ]
    }
   ],
   "source": [
    "punkty2 = [(-1, -1), (9,0), (0, 12)]\n",
    "wynik2 = sortuj_punkty(punkty2)\n",
    "print(wynik2)"
   ]
  },
  {
   "cell_type": "code",
   "execution_count": 27,
   "id": "278e5280-03d2-4d6f-ae36-9c9b5dd2874e",
   "metadata": {
    "tags": []
   },
   "outputs": [
    {
     "name": "stdout",
     "output_type": "stream",
     "text": [
      "[(0.5, 1.44), (1, 0), (14, 24)]\n"
     ]
    }
   ],
   "source": [
    "punkty3 = [(14, 24), (1, 0), (0.5, 1.44)]\n",
    "wynik3 = sortuj_punkty(punkty3)\n",
    "print(wynik3)"
   ]
  },
  {
   "cell_type": "markdown",
   "id": "9938790c",
   "metadata": {},
   "source": [
    "### Zadanie 4\n",
    "\n",
    "Baza danych w pewnej fikcyjnej szkole przechowywana jest za pomocą struktur danych Pythona. Oceny całej klasy reprezentowane są jako słownik, którego kluczami są uczniowie (napisy z imieniem i nazwiskiem) a wartościami słowniki reprezentujące oceny ucznia. Każdy słownik przedstawiający oceny ucznia ma nazwę przedmiotu jako klucz i listę ocen jako wartość. Oceny zapisane są jako liczby. Fragment przykładowych danych, to\n",
    "```python\n",
    "klasa1h = {\n",
    "    'Hipolit Hipopotamowicz': {\n",
    "        'język polski': [3, 3, 4],\n",
    "        'matematyka': [1, 2, 1, 3, 1],\n",
    "        ...\n",
    "    }, \n",
    "    ...\n",
    "}\n",
    "```\n",
    "#### podpunkt a\n",
    "W szkole uznaje się, że uczeń jest zagrożony z przedmiotu, jeśli jego średnia ocen z danego przedmiotu jest poniżej 2. Napisz funkcję `zagrożenia(klasa)`, która dla klasy reprezentowanej jak poniżej zwróci informację o zagrożeniach jako słownik, którego kluczami będą uczniowie (napisy z imieniem i nazwiskiem) a wartością listy przedmiotów, z których uczeń ma zagrożenie. Przykład użycia\n",
    "```python\n",
    "print(zagrożenia(klasa1h))\n",
    "```\n",
    "da w wyniku między innymi\n",
    "```python\n",
    "{\n",
    "    'Hipolit Hipopotamowicz': ['matematyka'],\n",
    "    ...\n",
    "}\n",
    "```\n",
    "Rozwiązanie umieść w komórce poniżej."
   ]
  },
  {
   "cell_type": "code",
   "execution_count": 81,
   "id": "d4d1c3f3",
   "metadata": {
    "tags": []
   },
   "outputs": [],
   "source": [
    "def zagrożenia(klasa): # podajemy słownik o nazwie klasa\n",
    "    zagrożenia_uczniów = {} # tworzymy słownik z zagrożonymi uczniami\n",
    "    \n",
    "    for uczeń, edukacja in klasa.items(): # zwraca (klucz, wartość) ze słowanika klasa, czyli u nas (uczeń, edukacja)\n",
    "        \n",
    "        zagrożenia_ucznia = [] # tworzymy listę dla zagrożonego ucznia\n",
    "        \n",
    "        for przedmiot, ocena in edukacja.items():\n",
    "            średnia = sum(ocena)/len(ocena) # liczymy średnią ocen danego ucznia\n",
    "            \n",
    "            if średnia < 2:\n",
    "                zagrożenia_ucznia.append(przedmiot) # dodaje przedmiot na końcu listy z zagrożeniami ucznia\n",
    "                \n",
    "        if zagrożenia_ucznia: # sprawdzamy czy lista z zagrożeniami nie jest pusta, jeśli nie jest pusta to przypisujemy ten przedmiot do danego ucznia\n",
    "            zagrożenia_uczniów[uczeń] = zagrożenia_ucznia\n",
    "            \n",
    "    return zagrożenia_uczniów"
   ]
  },
  {
   "cell_type": "code",
   "execution_count": 103,
   "id": "99653818-ca26-4f69-882e-eefc980a8790",
   "metadata": {
    "tags": []
   },
   "outputs": [],
   "source": [
    "# sprawdźmy działanie funkcji dopisując kilku uczniów do podanego przykładu\n",
    "klasa1h = {\n",
    "    \"Hipolit Hipopotamowicz\" : {\n",
    "        \"język polski\": [3, 3, 4],\n",
    "        \"matematyka\": [1, 2, 1, 3, 1],\n",
    "        \"język angielski\": [1, 2, 1, 1, 2],\n",
    "        \"historia\": [3, 1, 1, 2, 2]\n",
    "    }, \n",
    "    \"Joanna Nowak\": {\n",
    "        \"język polski\": [4, 5, 6],\n",
    "        \"matematyka\": [6, 5, 4, 2, 3],\n",
    "        \"język angielski\": [3, 3, 3, 4, 5],\n",
    "        \"historia\": [1, 1, 1, 1, 2]\n",
    "    },\n",
    "    \"Borys Kowalski\": {\n",
    "        \"język polski\": [4, 5, 6],\n",
    "        \"matematyka\": [6, 5, 4, 2, 3],\n",
    "        \"język angielski\": [3, 3, 3, 4, 5],\n",
    "        \"historia\": [5, 5, 6, 4, 3, 3]\n",
    "    },\n",
    "}"
   ]
  },
  {
   "cell_type": "code",
   "execution_count": 104,
   "id": "e044a10f-0ce0-47f8-aa00-35e4761b9a00",
   "metadata": {
    "tags": []
   },
   "outputs": [
    {
     "data": {
      "text/plain": [
       "{'Hipolit Hipopotamowicz': ['matematyka', 'język angielski', 'historia'],\n",
       " 'Joanna Nowak': ['historia']}"
      ]
     },
     "execution_count": 104,
     "metadata": {},
     "output_type": "execute_result"
    }
   ],
   "source": [
    "zagrożenia(klasa1h)"
   ]
  },
  {
   "cell_type": "markdown",
   "id": "4ff63f58-b95b-4118-b0c0-496f7dd81044",
   "metadata": {},
   "source": [
    "#### podpunkt b\n",
    "Napisz funkcję `procent_zagrożonych(klasa)`, która zwróci procent osób mających choć jedno zagrożenie jako liczbę zmiennoprzecinkową z przedziału od $0$ do $100$. Rozwiązanie umieść w komórce poniżej."
   ]
  },
  {
   "cell_type": "code",
   "execution_count": 115,
   "id": "11270a51-0a3a-417d-a5a5-4768560fd72f",
   "metadata": {
    "tags": []
   },
   "outputs": [],
   "source": [
    "def procent_zagrożonych(klasa):\n",
    "    liczba_zagrożonych = 0 # zmienna przechowuje liczbę uczniów zagrożonych, początkowa wartość wynosi 0\n",
    "    \n",
    "    for uczniowie in klasa.values(): # uczniowie są wartościami w słowaniku klasa, sprawdzamy wszystkich uczniów w klasie\n",
    "        \n",
    "        zagrożenia = False # jeśli uczeń nie ma zagrożeń funkcja nie jest liczona\n",
    "        \n",
    "        for ocena in uczniowie.values():\n",
    "            średnia = sum(ocena)/len(ocena)\n",
    "            \n",
    "            if średnia < 2:\n",
    "                zagrożenia = True # czyli uczeń ma zagrożenie chociaż z conajmniej jednego przedmiotu, więc już możemy go policzyć\n",
    "                break\n",
    "                \n",
    "        if zagrożenia:\n",
    "                liczba_zagrożonych += 1 # jeśli ktoś ma zagrożenie zwiększamy liczbę zagrożonych o jeden\n",
    "                \n",
    "    procent_zagrożonych = (liczba_zagrożonych/len(klasa)) * 100 if len(klasa)>0 else 0 # liczymy procent zagrożonych i zapobiegamy dzieleniu przez 0\n",
    "    \n",
    "    return procent_zagrożonych        "
   ]
  },
  {
   "cell_type": "code",
   "execution_count": 113,
   "id": "4889ecac-f53a-4681-94a4-ba2f228c7ca8",
   "metadata": {
    "tags": []
   },
   "outputs": [
    {
     "data": {
      "text/plain": [
       "66.66666666666666"
      ]
     },
     "execution_count": 113,
     "metadata": {},
     "output_type": "execute_result"
    }
   ],
   "source": [
    "procent_zagrożonych(klasa1h)"
   ]
  },
  {
   "cell_type": "markdown",
   "id": "d28424b3-4e38-4ed0-b081-e540e9950624",
   "metadata": {},
   "source": [
    "#### podpunkt c\n",
    "Napisz funkcję `osły_dardanelskie(klasa)`, która zwróci listę uczniów mających ex æquo najwięcej zagrożeń. Rozwiązanie umieść w komórce poniżej."
   ]
  },
  {
   "cell_type": "code",
   "execution_count": 118,
   "id": "7fd6724a-e5f8-423d-9e3e-b8130c3ddc5f",
   "metadata": {
    "tags": []
   },
   "outputs": [],
   "source": [
    "def osły_dardanelskie(klasa):\n",
    "    osły = {} # słownik z liczbami zagrożeń każdego ucznia\n",
    "    max_zagrożenia = 0 # maksymalna liczba zagrożeń\n",
    "    \n",
    "    for uczeń, przedmioty in klasa.items():\n",
    "        zagrożenia = 0 # początkowo zmienna zagrożenia ma wartość 0\n",
    "        \n",
    "        for ocena in przedmioty.values(): # (przedmiot, ocena)\n",
    "            średnia = sum(ocena)/len(ocena) if len(ocena)>0 else 0\n",
    "            if średnia < 2:\n",
    "                zagrożenia += 1 # jeśli uczeń jest zagrożony to do zmiennej jest dodawany ten uczeń\n",
    "      \n",
    "        osły[uczeń] = zagrożenia # liczba zagrożeń jest zapisywana w słowniku\n",
    "        max_zagrożenia = max(max_zagrożenia, zagrożenia)\n",
    "        \n",
    "    osły_dardanelskie = [uczeń for uczeń, zagrożenia in osły.items() if zagrożenia == max_zagrożenia] # lista z uczniami z największą liczbą zagrożeń\n",
    "    # zwracane są nazwiska uczniów z największą liczbą zagrożeń\n",
    "    \n",
    "    return osły_dardanelskie"
   ]
  },
  {
   "cell_type": "code",
   "execution_count": 119,
   "id": "85b8492f-6798-4c84-bd84-2ee889aba4df",
   "metadata": {
    "tags": []
   },
   "outputs": [
    {
     "data": {
      "text/plain": [
       "['Hipolit Hipopotamowicz']"
      ]
     },
     "execution_count": 119,
     "metadata": {},
     "output_type": "execute_result"
    }
   ],
   "source": [
    "osły_dardanelskie(klasa1h)"
   ]
  },
  {
   "cell_type": "markdown",
   "id": "73e32195",
   "metadata": {},
   "source": [
    "### Zadanie 5\n",
    "\n",
    "$n$-wymiarowa hiperkula o promieniu $r > 0$ i środku $S = (0, \\ldots, 0) \\in \\mathbb{R}^n$, to podzbiór $K_n(r)$ przestrzeni $\\mathbb{R}^n$ zdefiniowany następująco\n",
    "$$K_n(r) = \\left\\{x = (x_1, \\ldots, x_n) \\in \\mathbb{R}^n: \\sum_{i=1}^n x_i^2 < r^2 \\right\\}.$$\n",
    "Można pokazać, że objętość hiperkuli wynosi\n",
    "$$V_n(r) = \\frac{\\pi^{\\frac{n}{2}}}{\\Gamma\\left(\\frac{n}{2}+1\\right)}R^n,$$\n",
    "gdzie $\\Gamma$ to funkcja gamma Eulera zdefiniowana jako\n",
    "$$\\Gamma(x) = \\int_0^\\infty t^{x-1} e^{-t} \\,\\mathrm{d}t.$$\n",
    "\n",
    "#### podpunkt a\n",
    "\n",
    "Napisz funkcję `hiperkula(r, n)` obliczającą objętość $n$ wymiarowej hiperkuli o promieniu $r$. Korzystając z tej funkcji, wyznacz objętości kuli dla $r=1$ oraz $n=1, \\ldots, 10$. \n",
    "\n",
    "Podpowiedź: funkcję gamma Eulera znajdziesz w module `math`.\n",
    "\n",
    "Rozwiązanie umieść poniżej."
   ]
  },
  {
   "cell_type": "code",
   "execution_count": 29,
   "id": "fababd6c",
   "metadata": {
    "tags": []
   },
   "outputs": [],
   "source": [
    "def hiperkula(r, n):\n",
    "    hiperkula = math.pi**(n/2)/math.gamma(n/2 + 1) * r**n\n",
    "    return hiperkula"
   ]
  },
  {
   "cell_type": "code",
   "execution_count": 30,
   "id": "a6a3cf9e",
   "metadata": {
    "tags": []
   },
   "outputs": [
    {
     "name": "stdout",
     "output_type": "stream",
     "text": [
      "1.9999999999999998\n",
      "3.141592653589793\n",
      "4.1887902047863905\n",
      "4.934802200544679\n",
      "5.263789013914325\n",
      "5.167712780049969\n",
      "4.7247659703314016\n",
      "4.058712126416768\n",
      "3.2985089027387064\n",
      "2.550164039877345\n"
     ]
    }
   ],
   "source": [
    "for n in range (1, 11):\n",
    "    print(hiperkula(1, n))"
   ]
  },
  {
   "cell_type": "markdown",
   "id": "207d2a60",
   "metadata": {},
   "source": [
    "#### podpunkt b\n",
    "\n",
    "Dla jakiej liczby wymiarów objętość hiperkuli o promieniu jeden jest największa?\n",
    "\n",
    "Podpowiedź: Załóżmy, że szukamy $n \\in \\{0, \\ldots, 99\\}$ minimalizującego wartość pewnej funkcji $f(n)$. Rozważ poniższy kod --- jak myślisz, wybranie minimum z listy par zadziała tak, jak tego oczekujemy?\n",
    "```python\n",
    "pary = {(f(n), n) for n in range(100)}\n",
    "min(pary)\n",
    "```\n",
    "\n",
    "Rozwiązanie umieść w komórce poniżej."
   ]
  },
  {
   "cell_type": "code",
   "execution_count": 120,
   "id": "1a6f9949",
   "metadata": {
    "tags": []
   },
   "outputs": [
    {
     "name": "stdout",
     "output_type": "stream",
     "text": [
      "{(1.0, 0)}\n",
      "{(1.9999999999999998, 1)}\n",
      "{(3.141592653589793, 2)}\n",
      "{(4.1887902047863905, 3)}\n",
      "{(4.934802200544679, 4)}\n",
      "{(5.263789013914325, 5)}\n",
      "{(5.167712780049969, 6)}\n",
      "{(4.7247659703314016, 7)}\n",
      "{(4.058712126416768, 8)}\n",
      "{(3.2985089027387064, 9)}\n",
      "{(2.550164039877345, 10)}\n",
      "{(1.8841038793898994, 11)}\n",
      "{(1.3352627688545893, 12)}\n",
      "{(0.910628754783283, 13)}\n",
      "{(0.5992645293207919, 14)}\n",
      "{(0.38144328082330436, 15)}\n",
      "{(0.23533063035889312, 16)}\n",
      "{(0.14098110691713897, 17)}\n",
      "{(0.08214588661112819, 18)}\n",
      "{(0.046621601030088534, 19)}\n",
      "{(0.02580689139001405, 20)}\n",
      "{(0.013949150409020996, 21)}\n",
      "{(0.007370430945714348, 22)}\n",
      "{(0.003810656386852124, 23)}\n",
      "{(0.001929574309403922, 24)}\n",
      "{(0.0009577224088231723, 25)}\n",
      "{(0.00046630280576761234, 26)}\n",
      "{(0.000222872124721274, 27)}\n",
      "{(0.00010463810492484565, 28)}\n",
      "{(4.8287822738917413e-05, 29)}\n",
      "{(2.1915353447830204e-05, 30)}\n",
      "{(9.787139946737361e-06, 31)}\n",
      "{(4.303069587032944e-06, 32)}\n",
      "{(1.863467088262139e-06, 33)}\n",
      "{(7.952054001475508e-07, 34)}\n",
      "{(3.345288294108971e-07, 35)}\n",
      "{(1.387895246221376e-07, 36)}\n",
      "{(5.6808287183311744e-08, 37)}\n",
      "{(2.2948428997269856e-08, 38)}\n",
      "{(9.152230650159558e-09, 39)}\n",
      "{(3.6047307974624982e-09, 40)}\n",
      "{(1.4025649060732007e-09, 41)}\n",
      "{(5.392664662608125e-10, 42)}\n",
      "{(2.0494360953964767e-10, 43)}\n",
      "{(7.700707130601346e-11, 44)}\n",
      "{(2.86155261391081e-11, 45)}\n",
      "{(1.0518471716932059e-11, 46)}\n",
      "{(3.825460710520369e-12, 47)}\n",
      "{(1.3768647280377408e-12, 48)}\n",
      "{(4.905322148884564e-13, 49)}\n",
      "{(1.7302192458361097e-13, 50)}\n",
      "{(6.043342755461588e-14, 51)}\n",
      "{(2.0906323353147666e-14, 52)}\n",
      "{(7.164423095729517e-15, 53)}\n",
      "{(2.4325611799933862e-15, 54)}\n",
      "{(8.18461780536469e-16, 55)}\n",
      "{(2.7293272615981923e-16, 56)}\n",
      "{(9.022012340271548e-17, 57)}\n",
      "{(2.956701542854907e-17, 58)}\n",
      "{(9.607961928404593e-18, 59)}\n",
      "{(3.096250615296861e-18, 60)}\n",
      "{(9.896492659097147e-19, 61)}\n",
      "{(3.137792963448224e-19, 62)}\n",
      "{(9.870078931468227e-20, 63)}\n",
      "{(3.080521038267089e-20, 64)}\n",
      "{(9.54085152660061e-21, 65)}\n",
      "{(2.9326491706208156e-21, 66)}\n",
      "{(8.947304198495348e-22, 67)}\n",
      "{(2.709761497052516e-22, 68)}\n",
      "{(8.147473953456843e-23, 69)}\n",
      "{(2.4322762320344753e-23, 70)}\n",
      "{(7.210153328871608e-24, 71)}\n",
      "{(2.1225614283501585e-24, 72)}\n",
      "{(6.205853350476447e-25, 73)}\n",
      "{(1.8022225378643015e-25, 74)}\n",
      "{(5.199003545363311e-26, 75)}\n",
      "{(1.4899602855495902e-26, 76)}\n",
      "{(4.2423769724936784e-27, 77)}\n",
      "{(1.2002175095443955e-27, 78)}\n",
      "{(3.374131729251809e-28, 79)}\n",
      "{(9.426486276736277e-29, 80)}\n",
      "{(2.617320358731286e-29, 81)}\n",
      "{(7.222970740526754e-30, 82)}\n",
      "{(1.9813384123087263e-30, 83)}\n",
      "{(5.402769479888779e-31, 84)}\n",
      "{(1.4646019295022018e-31, 85)}\n",
      "{(3.9472792807111023e-32, 86)}\n",
      "{(1.0577431407258743e-32, 87)}\n",
      "{(2.8183508158975456e-33, 88)}\n",
      "{(7.467411416380678e-34, 89)}\n",
      "{(1.9675800485472293e-34, 90)}\n",
      "{(5.155948318029469e-35, 91)}\n",
      "{(1.3437684838838745e-35, 92)}\n",
      "{(3.483417066281728e-36, 93)}\n",
      "{(8.98207063211718e-37, 94)}\n",
      "{(2.3038899925936815e-37, 95)}\n",
      "{(5.878751481642491e-38, 96)}\n",
      "{(1.492347190806464e-38, 97)}\n",
      "{(3.769110707552687e-39, 98)}\n",
      "{(9.471408022713036e-40, 99)}\n"
     ]
    }
   ],
   "source": [
    "# zobaczmy jak fuknkcja hiperkula dla r=1 zmienia się w przedziale od 0 do 99\n",
    "for n in range(100):\n",
    "    para = {(hiperkula(1, n), n)}\n",
    "    print(para)\n",
    "# widać, że im większy wymiar od n=5 funkcja dąży do 0, więc wystarczy, że znajdziemy największą objętość i odpowiadającą mu liczbę wymiarów z przedziału z podpunktu a"
   ]
  },
  {
   "cell_type": "code",
   "execution_count": 121,
   "id": "40d19fd9-4030-4098-958a-7526dc75928b",
   "metadata": {
    "tags": []
   },
   "outputs": [
    {
     "data": {
      "text/plain": [
       "(5.263789013914325, 5)"
      ]
     },
     "execution_count": 121,
     "metadata": {},
     "output_type": "execute_result"
    }
   ],
   "source": [
    "maksymalne = {(hiperkula(1,n), n) for n in range(1, 11)}\n",
    "max(maksymalne) # zwraca maksymalną objętość dla wymiaru n, w którym ją przyjmuje, czyli to, czego szukamy"
   ]
  },
  {
   "cell_type": "markdown",
   "id": "f9f64978-4a72-4760-a5d1-6e47bb89d32f",
   "metadata": {},
   "source": [
    "Hiperkula ma największą objętość dla 5 wymiarów."
   ]
  },
  {
   "cell_type": "markdown",
   "id": "3d7a18a0",
   "metadata": {},
   "source": [
    "\n",
    "<div style=\"text-align: right\"> Powodzenia!<br><i>Zespół kursu Wstęp do programowania</i></div>"
   ]
  }
 ],
 "metadata": {
  "kernelspec": {
   "display_name": "Python 3 (ipykernel)",
   "language": "python",
   "name": "python3"
  },
  "language_info": {
   "codemirror_mode": {
    "name": "ipython",
    "version": 3
   },
   "file_extension": ".py",
   "mimetype": "text/x-python",
   "name": "python",
   "nbconvert_exporter": "python",
   "pygments_lexer": "ipython3",
   "version": "3.11.5"
  }
 },
 "nbformat": 4,
 "nbformat_minor": 5
}
