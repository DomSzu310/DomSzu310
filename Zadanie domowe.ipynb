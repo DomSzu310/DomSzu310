{
 "cells": [
  {
   "cell_type": "markdown",
   "id": "7f46425d",
   "metadata": {},
   "source": [
    "* **Imię:** Dominika\n",
    "* **Nazwisko:** Szulc\n",
    "* **Numer indeksu:** 277507"
   ]
  },
  {
   "cell_type": "markdown",
   "id": "02a9ddd0",
   "metadata": {},
   "source": [
    "# Ruch jednostajnie zmienny prostoliniowy"
   ]
  },
  {
   "cell_type": "markdown",
   "id": "d8c2fa6b",
   "metadata": {},
   "source": [
    "Wzór pozwalający obliczyć drogę w ruchu jednostajnie zmiennym prostoliniowmy ma postać:\n",
    "$$\n",
    "s = ʋ_{0} t + \\frac{1}{2}at^2\n",
    "$$"
   ]
  },
  {
   "cell_type": "markdown",
   "id": "4f1c07e0",
   "metadata": {},
   "source": [
    "Natomiast wzór pozwalający obliczyć prędkość końcową w zadanym ruchu:\n",
    "$$\n",
    "ʋ = ʋ_{0} + at\n",
    "$$"
   ]
  },
  {
   "cell_type": "markdown",
   "id": "549acf74",
   "metadata": {},
   "source": [
    "gdzie:\n",
    "* $ʋ$ - prędkość końcowa\n",
    "* $ʋ_{0}$ - prędkość początkowa\n",
    "* a - przyspieszenie/opóźnienie\n",
    "* t - czas\n",
    "* s - droga"
   ]
  },
  {
   "cell_type": "markdown",
   "id": "7f443e94",
   "metadata": {},
   "source": [
    "**Wartości podawaj w jednostkach układu SI ($m/s$, $s$ oraz $m/s^2$).**"
   ]
  },
  {
   "cell_type": "code",
   "execution_count": 6,
   "id": "61be94fd",
   "metadata": {},
   "outputs": [
    {
     "name": "stdout",
     "output_type": "stream",
     "text": [
      "Podaj ʋₒ: 0\n",
      "ʋₒ = 0.0\n"
     ]
    }
   ],
   "source": [
    "Vₒ = float(input(\"Podaj \\U0000028Bₒ: \"))\n",
    "if Vₒ>=0 :\n",
    "    print(\"\\U0000028Bₒ = \" + str(Vₒ))\n",
    "else: print(\"ERROR\")"
   ]
  },
  {
   "cell_type": "code",
   "execution_count": 7,
   "id": "f5252cff",
   "metadata": {},
   "outputs": [
    {
     "name": "stdout",
     "output_type": "stream",
     "text": [
      "Podaj a: 2\n",
      "Ruch jest przyspieszony, a = 2.0\n"
     ]
    }
   ],
   "source": [
    "a = float(input(\"Podaj a: \"))\n",
    "if a>0 :\n",
    "    print(\"Ruch jest przyspieszony, a = \" + str(a))\n",
    "elif a<0 :\n",
    "    print(\"Ruch jest opóźniony, a = \" + str(a))\n",
    "else: print(\"Ruch jest jednostajny, więc \\U0000028B = \\U0000028Bₒ.\")"
   ]
  },
  {
   "cell_type": "code",
   "execution_count": 8,
   "id": "e246c8dc",
   "metadata": {},
   "outputs": [
    {
     "name": "stdout",
     "output_type": "stream",
     "text": [
      "Podaj t: 5\n",
      "t = 5.0\n"
     ]
    }
   ],
   "source": [
    "t = float(input(\"Podaj t: \"))\n",
    "if t>0 :\n",
    "    print(\"t = \" + str(t))\n",
    "elif t==0 :\n",
    "    print(\"Ruch się nie rozpoczął.\")\n",
    "else: print(\"ERROR\")"
   ]
  },
  {
   "cell_type": "code",
   "execution_count": 9,
   "id": "529ae632",
   "metadata": {},
   "outputs": [
    {
     "name": "stdout",
     "output_type": "stream",
     "text": [
      "ʋ = 10.0\n"
     ]
    }
   ],
   "source": [
    "V = Vₒ + a*t\n",
    "if Vₒ<0 :\n",
    "    print(\"ERROR\")\n",
    "elif t<0 :\n",
    "    print(\"ERROR\")\n",
    "elif a==0:\n",
    "    print(\"\\U0000028B = \\U0000028Bₒ = \" + str(Vₒ))\n",
    "else : print(\"\\U0000028B = \" + str(V))"
   ]
  },
  {
   "cell_type": "code",
   "execution_count": 10,
   "id": "813f0393",
   "metadata": {},
   "outputs": [
    {
     "name": "stdout",
     "output_type": "stream",
     "text": [
      "S = 25.0\n"
     ]
    }
   ],
   "source": [
    "S = Vₒ*t + a*t**2/2\n",
    "if S<0 :\n",
    "    print(\"ERROR\")\n",
    "elif S==0 :\n",
    "    print(\"Ruch się nie rozpoczął.\")\n",
    "else : print(\"S = \" + str(S))"
   ]
  }
 ],
 "metadata": {
  "kernelspec": {
   "display_name": "Python 3 (ipykernel)",
   "language": "python",
   "name": "python3"
  },
  "language_info": {
   "codemirror_mode": {
    "name": "ipython",
    "version": 3
   },
   "file_extension": ".py",
   "mimetype": "text/x-python",
   "name": "python",
   "nbconvert_exporter": "python",
   "pygments_lexer": "ipython3",
   "version": "3.11.5"
  }
 },
 "nbformat": 4,
 "nbformat_minor": 5
}
