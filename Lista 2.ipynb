{
 "cells": [
  {
   "cell_type": "markdown",
   "id": "817cd8f2",
   "metadata": {},
   "source": [
    "# Wstęp do programowania\n",
    "\n",
    "## Lista 2\n",
    "\n",
    "Uzupełnij swoje dane poniżej, następnie przeczytaj treść zadań i umieść rozwiązania w odpowidenich komórkach pozostawionych w tym celu pod treścią. Pamiętaj dbać o specyfikację, czyli nazwy zmiennych oraz odpowiednie rozmieszczenie komórek. Jeśli uruchomisz wszystkie komórki, dokument powinien działać bez błędów."
   ]
  },
  {
   "cell_type": "markdown",
   "id": "76926f19",
   "metadata": {},
   "source": [
    "  * **Imię:** Dominika\n",
    "  * **Nazwisko:** Szulc\n",
    "  * **Numer indeksu:** 277507"
   ]
  },
  {
   "cell_type": "markdown",
   "id": "ce255a8c",
   "metadata": {},
   "source": [
    "## Zadanie 1\n",
    "\n",
    "Przeanalizuj program"
   ]
  },
  {
   "cell_type": "code",
   "execution_count": 52,
   "id": "6919864c",
   "metadata": {},
   "outputs": [
    {
     "name": "stdout",
     "output_type": "stream",
     "text": [
      "*************************\n",
      "*  *  *  *  *  *  *  *  *\n",
      "*************************\n",
      "*  *  *  *  *  *  *  *  *\n",
      "*************************\n",
      "*  *  *  *  *  *  *  *  *\n",
      "*************************\n",
      "*  *  *  *  *  *  *  *  *\n",
      "*************************\n",
      "*  *  *  *  *  *  *  *  *\n",
      "*************************\n",
      "*  *  *  *  *  *  *  *  *\n",
      "*************************\n",
      "*  *  *  *  *  *  *  *  *\n",
      "*************************\n",
      "*  *  *  *  *  *  *  *  *\n",
      "*************************\n",
      "\n"
     ]
    }
   ],
   "source": [
    "wiersz1 = \"***\"*8 + \"*\\n\"\n",
    "wiersz2 = \"*  \"*8 + \"*\\n\"\n",
    "szachownica = (wiersz1 + wiersz2)*8 + wiersz1\n",
    "print(szachownica) #8x8"
   ]
  },
  {
   "cell_type": "markdown",
   "id": "ab3366ad",
   "metadata": {},
   "source": [
    "### Podpunkt a\n",
    "\n",
    "Zmodyfikuj program tak, aby uzyskać szachownicę o wymiarach $5\\times5$."
   ]
  },
  {
   "cell_type": "code",
   "execution_count": 55,
   "id": "a7b3f55b",
   "metadata": {},
   "outputs": [
    {
     "name": "stdout",
     "output_type": "stream",
     "text": [
      "****************\n",
      "*  *  *  *  *  *\n",
      "****************\n",
      "*  *  *  *  *  *\n",
      "****************\n",
      "*  *  *  *  *  *\n",
      "****************\n",
      "*  *  *  *  *  *\n",
      "****************\n",
      "*  *  *  *  *  *\n",
      "****************\n",
      "\n"
     ]
    }
   ],
   "source": [
    "wiersz3 = \"***\"*5 + \"*\\n\"\n",
    "wiersz4 = \"*  \"*5 + \"*\\n\"\n",
    "szachownica1 = (wiersz3 + wiersz4)*5 + wiersz3\n",
    "print(szachownica1)"
   ]
  },
  {
   "cell_type": "markdown",
   "id": "65a80939",
   "metadata": {},
   "source": [
    "### Podpunkt b\n",
    "\n",
    "Zmodyfikuj program tak, aby uzyskać szachownicę o wymiarach $12\\times 9$."
   ]
  },
  {
   "cell_type": "code",
   "execution_count": 58,
   "id": "93c205ae",
   "metadata": {},
   "outputs": [
    {
     "name": "stdout",
     "output_type": "stream",
     "text": [
      "*************************************\n",
      "*  *  *  *  *  *  *  *  *  *  *  *  *\n",
      "*************************************\n",
      "*  *  *  *  *  *  *  *  *  *  *  *  *\n",
      "*************************************\n",
      "*  *  *  *  *  *  *  *  *  *  *  *  *\n",
      "*************************************\n",
      "*  *  *  *  *  *  *  *  *  *  *  *  *\n",
      "*************************************\n",
      "*  *  *  *  *  *  *  *  *  *  *  *  *\n",
      "*************************************\n",
      "*  *  *  *  *  *  *  *  *  *  *  *  *\n",
      "*************************************\n",
      "*  *  *  *  *  *  *  *  *  *  *  *  *\n",
      "*************************************\n",
      "*  *  *  *  *  *  *  *  *  *  *  *  *\n",
      "*************************************\n",
      "*  *  *  *  *  *  *  *  *  *  *  *  *\n",
      "*************************************\n",
      "\n"
     ]
    }
   ],
   "source": [
    "wiersz5 = \"***\"*12 + \"*\\n\"\n",
    "wiersz6 = \"*  \"*12 + \"*\\n\"\n",
    "szachownica2 = (wiersz5 + wiersz6)*9 + wiersz5\n",
    "print(szachownica2)"
   ]
  },
  {
   "cell_type": "markdown",
   "id": "73e32195",
   "metadata": {},
   "source": [
    "### Podpunkt c\n",
    "\n",
    "Stwórz zmienną `szachownica`, która będzie zawierać napis utworzony na podstawie dwóch liczb całkowitych zapisanych w zmiennych `n` oraz `m`. Wypisanie zmiennej na ekranie\n",
    "\n",
    "```python\n",
    "print(szachownica)\n",
    "```\n",
    "powinno dać w rezultacie pojawienie się szachownicy rozmiaru $2n \\times 2m$ ($2n$ wierszy, $2m$ kolumn), na przykład dla $n=2$ oraz $m=3$ szachownica powinna wyglądać następująco\n",
    "```\n",
    "▨▢▨▢▨▢\n",
    "▢▨▢▨▢▨\n",
    "▨▢▨▢▨▢\n",
    "▢▨▢▨▢▨\n",
    "```\n",
    "Użyj symboli Unicode [25A8](https://unicode-table.com/en/25A8/) oraz [25A2](https://unicode-table.com/en/25A2/). Lewe górne pole szachownicy powinno być czarne (zakreskowane)."
   ]
  },
  {
   "cell_type": "code",
   "execution_count": 5,
   "id": "5ba69fcd",
   "metadata": {},
   "outputs": [],
   "source": [
    "n = 2\n",
    "m = 3"
   ]
  },
  {
   "cell_type": "markdown",
   "id": "fc78b1ee",
   "metadata": {},
   "source": [
    "Rozwiązanie umieść w komórce poniżej."
   ]
  },
  {
   "cell_type": "code",
   "execution_count": 6,
   "id": "0e5571e0",
   "metadata": {},
   "outputs": [
    {
     "name": "stdout",
     "output_type": "stream",
     "text": [
      "▨▢▨▢▨▢\n",
      "▢▨▢▨▢▨\n",
      "▨▢▨▢▨▢\n",
      "▢▨▢▨▢▨\n",
      "\n"
     ]
    }
   ],
   "source": [
    "kolumna = \"\\U000025A8\\U000025A2\"*m + \"\\n\" + \"\\U000025A2\\U000025A8\"*m + \"\\n\"\n",
    "szachownica = kolumna*n\n",
    "print(szachownica) #????????????????????????????"
   ]
  },
  {
   "cell_type": "markdown",
   "id": "0cbdc8ac",
   "metadata": {},
   "source": [
    "## Zadanie 2\n",
    "\n",
    "Oprócz napisów interpolowanych, niekiedy używamy tak zwanej specyfikacji formatu oraz metody `format`. Zapoznaj się [dokumentacją](https://docs.python.org/3/library/string.html#formatstrings) oraz przykładem poniżej."
   ]
  },
  {
   "cell_type": "code",
   "execution_count": 4,
   "id": "96ae9be7",
   "metadata": {},
   "outputs": [
    {
     "data": {
      "text/plain": [
       "'Wartość x jest równa 7'"
      ]
     },
     "execution_count": 4,
     "metadata": {},
     "output_type": "execute_result"
    }
   ],
   "source": [
    "\"Wartość x jest równa {x}\".format(x=7)"
   ]
  },
  {
   "cell_type": "code",
   "execution_count": 7,
   "id": "af3dea6c",
   "metadata": {},
   "outputs": [
    {
     "data": {
      "text/plain": [
       "'Wartość 2 dziesiętnie to 10 binarnie'"
      ]
     },
     "execution_count": 7,
     "metadata": {},
     "output_type": "execute_result"
    }
   ],
   "source": [
    "\"Wartość {x} dziesiętnie to {x:b} binarnie\".format(x=2)"
   ]
  },
  {
   "cell_type": "code",
   "execution_count": 5,
   "id": "ccd0cd69",
   "metadata": {},
   "outputs": [
    {
     "name": "stdout",
     "output_type": "stream",
     "text": [
      "Punkt(3, 7)\n",
      "Punkt(-3, <brak danych>)\n"
     ]
    }
   ],
   "source": [
    "specyfikacja = \"Punkt({x}, {y})\"\n",
    "print(specyfikacja.format(x=3, y=7))\n",
    "print(specyfikacja.format(x=-3, y=\"<brak danych>\"))"
   ]
  },
  {
   "cell_type": "markdown",
   "id": "f2d06043",
   "metadata": {},
   "source": [
    "Zaletą tego rozwiązania jest to, że jedna specyfikacja może być użyta do utworzenia wielu napisów na jej podstawie.\n",
    "\n",
    "### Podpunkt a\n",
    "\n",
    "Stwórz specyfikację tak, aby liczby przekazane przez zmienną `x` pojawiły się w formacie dziesiętnym i szesnastkowym."
   ]
  },
  {
   "cell_type": "code",
   "execution_count": 20,
   "id": "60e563f3",
   "metadata": {},
   "outputs": [
    {
     "name": "stdout",
     "output_type": "stream",
     "text": [
      "x w formacie dziesiętnym wynosi 255, a w formacie szesnastkowym FF\n",
      "x w formacie dziesiętnym wynosi 10, a w formacie szesnastkowym A\n"
     ]
    }
   ],
   "source": [
    "specyfikacja = \"x w formacie dziesiętnym wynosi {x:d}, a w formacie szesnastkowym {x:X}\"\n",
    "print(specyfikacja.format(x=255))\n",
    "print(specyfikacja.format(x=10))"
   ]
  },
  {
   "cell_type": "markdown",
   "id": "3369d128",
   "metadata": {},
   "source": [
    "### Podpunkt b\n",
    "\n",
    "Stwórz specyfikację tak, aby liczby przekazane przez zmienną `x` pojawiły się z dokładnością do dwóch miejsc po przecinku (przecinek będzie zapisany jako kropka, zgodnie ze stylem anglosaskim)."
   ]
  },
  {
   "cell_type": "code",
   "execution_count": 36,
   "id": "89b68de3",
   "metadata": {},
   "outputs": [
    {
     "name": "stdout",
     "output_type": "stream",
     "text": [
      "Liczba x z dokładnością do dwóch miejsc po przecinku wynosi:  3.14\n",
      "Liczba x z dokładnością do dwóch miejsc po przecinku wynosi:  3.00\n",
      "Liczba x z dokładnością do dwóch miejsc po przecinku wynosi:  12.12\n"
     ]
    }
   ],
   "source": [
    "specyfikacja = \"Liczba x z dokładnością do dwóch miejsc po przecinku wynosi: {x: .2f}\"\n",
    "print(specyfikacja.format(x=3.14))\n",
    "print(specyfikacja.format(x=3))\n",
    "print(specyfikacja.format(x=12.123456))"
   ]
  },
  {
   "cell_type": "markdown",
   "id": "69837572",
   "metadata": {},
   "source": [
    "### Podpunkt c\n",
    "Stwórz specyfikację tak, aby liczby przekazane przez zmienne `x` w kilku wywołaniach, były wyrównane w pionie na przecinku i miały dwa miejsca po przecinku. Możesz założyć, że wszystkie liczby są mniejsze od `100000`."
   ]
  },
  {
   "cell_type": "code",
   "execution_count": 1,
   "id": "1de0fa22",
   "metadata": {},
   "outputs": [
    {
     "name": "stdout",
     "output_type": "stream",
     "text": [
      "    3.14\n",
      "   30.00\n",
      "12345.12\n"
     ]
    }
   ],
   "source": [
    "specyfikacja = '{x:>8.2f}'\n",
    "print(specyfikacja.format(x=3.14))\n",
    "print(specyfikacja.format(x=30))\n",
    "print(specyfikacja.format(x=12345.123456))"
   ]
  },
  {
   "cell_type": "markdown",
   "id": "4c35a34b",
   "metadata": {},
   "source": [
    "## Zadanie 3\n",
    "\n",
    "Przeanalizuj program z wykładu."
   ]
  },
  {
   "cell_type": "code",
   "execution_count": 9,
   "id": "c7a59ebe",
   "metadata": {},
   "outputs": [
    {
     "name": "stdout",
     "output_type": "stream",
     "text": [
      "Jak masz na imię? Kleofas\n",
      "Witaj Kleofas, miło Cię widzieć!\n"
     ]
    }
   ],
   "source": [
    "imię = input(\"Jak masz na imię? \")\n",
    "print(\"Witaj \" + imię + \", miło Cię widzieć!\")"
   ]
  },
  {
   "cell_type": "markdown",
   "id": "d6adc223",
   "metadata": {},
   "source": [
    "### Podpunkt a\n",
    "\n",
    "Zmodyfikuj program tak, aby pojawiła się dodatkowa linia, brzmiąca:\n",
    "```\n",
    "Czy wiedziałeś, że twoje imie czytane od końca, to ...?\n",
    "```\n",
    "W tym podpunkcie nie musisz przejmować się wielkością liter."
   ]
  },
  {
   "cell_type": "code",
   "execution_count": 39,
   "id": "15174b8b",
   "metadata": {},
   "outputs": [
    {
     "name": "stdout",
     "output_type": "stream",
     "text": [
      "Jak masz na imię? Kleofas\n",
      "Witaj Kleofas, miło Cię widzieć!\n",
      "Czy wiedziałeś, że twoje imię czytane od końca, to safoelK?\n"
     ]
    }
   ],
   "source": [
    "imię = input(\"Jak masz na imię? \")\n",
    "print(\"Witaj \" + imię + \", miło Cię widzieć!\")\n",
    "\n",
    "koniec = imię[::-1]\n",
    "print(\"Czy wiedziałeś, że twoje imię czytane od końca, to \" + koniec + \"?\")"
   ]
  },
  {
   "cell_type": "markdown",
   "id": "5f37896f",
   "metadata": {},
   "source": [
    "### Podpunkt b\n",
    "Zmodyfikuj program tak, aby zarazem imię, jak i imię czytane od końca zaczynało się wielką literą i aby były to jedyne wielkie litery w słowie. Aby odnaleźć odpowiednie metody, zapoznaj się z [dokumentacją](https://docs.python.org/3/library/stdtypes.html#string-methods)."
   ]
  },
  {
   "cell_type": "code",
   "execution_count": 50,
   "id": "968f5008",
   "metadata": {},
   "outputs": [
    {
     "name": "stdout",
     "output_type": "stream",
     "text": [
      "Jak masz na imię? kleofas\n",
      "Witaj Kleofas, miło Cię widzieć!\n",
      "Czy wiedziałeś, że twoje imię czytane od końca, to Safoelk?\n"
     ]
    }
   ],
   "source": [
    "imię = input(\"Jak masz na imię? \")\n",
    "print(\"Witaj \" + str.capitalize(imię) + \", miło Cię widzieć!\")\n",
    "\n",
    "koniec = imię[::-1]\n",
    "print(\"Czy wiedziałeś, że twoje imię czytane od końca, to \" + str.capitalize (koniec) + \"?\")"
   ]
  },
  {
   "cell_type": "markdown",
   "id": "fbca0e97",
   "metadata": {},
   "source": [
    "## Zadanie 4\n",
    "\n",
    "Napisz program, który zapyta użytkownika o dwie liczby całkowite: $x$ oraz $y$, a następnie wypisze kolejno wynik ich dodawania, odejmowania, mnożenia, dzielenia, dzielenia z resztą oraz potęgowania. Dla operacji nieprzemiennych podaj oba możliwe warianty. Pamiętaj o tym, że funkcja `input` zwraca napisy."
   ]
  },
  {
   "cell_type": "code",
   "execution_count": 90,
   "id": "5e4b83a7",
   "metadata": {},
   "outputs": [
    {
     "name": "stdout",
     "output_type": "stream",
     "text": [
      "Podaj x = 1\n",
      "Podaj y = 2\n",
      "\n",
      "x + y =  3\n",
      "\n",
      "x - y =  -1\n",
      "y - x =  1\n",
      "\n",
      "x * y =  2\n",
      "\n",
      "x / y =  0.5\n",
      "y/ x =  2.0\n",
      "\n",
      "x % y =  1\n",
      "y % x =  0\n"
     ]
    }
   ],
   "source": [
    "x = float(input(\"Podaj x = \"))\n",
    "y = float(input(\"Podaj y = \"))\n",
    "\n",
    "print(\"\\n\" + \"x + y = \", int(x+y))\n",
    "\n",
    "print(\"\\n\" + \"x - y = \", int(x-y))\n",
    "print(\"y - x = \", int(y-x))\n",
    "\n",
    "print(\"\\n\" + \"x * y = \", int(x*y))\n",
    "\n",
    "print(\"\\n\" + \"x / y = \", (x/y))\n",
    "print(\"y/ x = \", (y/x))\n",
    "\n",
    "print(\"\\n\" + \"x % y = \", int(x%y))\n",
    "print(\"y % x = \", int(y%x))"
   ]
  },
  {
   "cell_type": "markdown",
   "id": "cab9f191",
   "metadata": {},
   "source": [
    "## Zadanie 5\n",
    "\n",
    "Przypomnij sobie rozwiązanie zadania 3b z poprzedniej listy. Napisz program, który zapyta użytkownika o trzy liczby `D`, `M` oraz `R` oznaczające kolejno dzień, miesiąc oraz rok. Następnie w wyniku wypisz jedynie dzień tygodnia. Przykładowe użycie, w którym trzy pierwsze linie to wypełniony formularz a czwarta to wynik działania to:\n",
    "```\n",
    "Podaj dzień: 20\n",
    "Podaj miesiąc: 10\n",
    "Podaj rok: 2022\n",
    "Dzień tygodnia to czwartek.\n",
    "```"
   ]
  },
  {
   "cell_type": "code",
   "execution_count": 100,
   "id": "109c368a",
   "metadata": {},
   "outputs": [
    {
     "name": "stdout",
     "output_type": "stream",
     "text": [
      "Podaj dzień: 19\n",
      "Podaj miesiąc: 10\n",
      "Podaj rok: 2023\n",
      "Dzień tygodnia to czwartek.\n"
     ]
    }
   ],
   "source": [
    "import math\n",
    "D = float(input(\"Podaj dzień: \"))\n",
    "M = float(input(\"Podaj miesiąc: \"))\n",
    "R = float(input(\"Podaj rok: \"))\n",
    "\n",
    "a = math.floor((14 - M)/12)\n",
    "y = R + 4800 - a\n",
    "m = M + 12*a - 3\n",
    "dzień_juliański = D + math.floor((153*m + 2)/5) + 365*y + math.floor(y/4) - math.floor(y/100) + math.floor(y/400) - 32045\n",
    "\n",
    "dzień_tygodnia = (dzień_juliański%7) + 1\n",
    "\n",
    "if dzień_tygodnia == 1:\n",
    "    print(\"Dzień tygodnia to poniedziałek.\")\n",
    "if dzień_tygodnia == 2:\n",
    "    print(\"Dzień tygodnia to wtorek.\")\n",
    "if dzień_tygodnia == 3:\n",
    "    print(\"Dzień tygodnia to środa.\")\n",
    "if dzień_tygodnia == 4:\n",
    "    print(\"Dzień tygodnia to czwartek.\")\n",
    "if dzień_tygodnia == 5:\n",
    "    print(\"Dzień tygodnia to piątek.\")\n",
    "if dzień_tygodnia == 6:\n",
    "    print(\"Dzień tygodnia to sobota.\")\n",
    "if dzień_tygodnia == 7:\n",
    "    print(\"Dzień tygodnia to niedziela.\")"
   ]
  },
  {
   "cell_type": "markdown",
   "id": "3d7a18a0",
   "metadata": {},
   "source": [
    "<div style=\"text-align: right\"> Powodzenia!<br><i>Zespół kursu Wstęp do programowania</i></div>"
   ]
  }
 ],
 "metadata": {
  "kernelspec": {
   "display_name": "Python 3 (ipykernel)",
   "language": "python",
   "name": "python3"
  },
  "language_info": {
   "codemirror_mode": {
    "name": "ipython",
    "version": 3
   },
   "file_extension": ".py",
   "mimetype": "text/x-python",
   "name": "python",
   "nbconvert_exporter": "python",
   "pygments_lexer": "ipython3",
   "version": "3.11.5"
  }
 },
 "nbformat": 4,
 "nbformat_minor": 5
}
