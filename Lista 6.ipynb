{
 "cells": [
  {
   "cell_type": "markdown",
   "id": "817cd8f2",
   "metadata": {},
   "source": [
    "# Wstęp do programowania\n",
    "## Lista 6\n",
    "\n",
    "Uzupełnij swoje dane poniżej, następnie przeczytaj treść zadań i umieść rozwiązania w odpowidenich komórkach pozostawionych w tym celu pod treścią. Pamiętaj dbać o specyfikację, czyli nazwy zmiennych oraz odpowiednie rozmieszczenie komórek. Jeśli uruchomisz wszystkie komórki, dokument powinien działać bez błędów."
   ]
  },
  {
   "cell_type": "markdown",
   "id": "76926f19",
   "metadata": {},
   "source": [
    "  * **Imię:** Dominika\n",
    "  * **Nazwisko:** Szulc\n",
    "  * **Numer indeksu:** 277507"
   ]
  },
  {
   "cell_type": "markdown",
   "id": "f179d9a1",
   "metadata": {},
   "source": [
    "W rozwiązaniach zadań możesz korzystać z wielu bibliotek. Do obliczeń `math`, `numpy` oraz `sympy`. Do wizualizacji `matplotlib.pyplot` oraz `ipywidgets`. Testy możesz wykonywać za pomocą modułów `unittest` oraz `doctest`."
   ]
  },
  {
   "cell_type": "code",
   "execution_count": 1,
   "id": "c357e0e3-afa3-4925-9ab7-104c2ec587e3",
   "metadata": {
    "tags": []
   },
   "outputs": [
    {
     "name": "stdout",
     "output_type": "stream",
     "text": [
      "Requirement already satisfied: hypothesis in c:\\users\\dominika\\anaconda3\\lib\\site-packages (6.92.0)\n",
      "Requirement already satisfied: attrs>=22.2.0 in c:\\users\\dominika\\anaconda3\\lib\\site-packages (from hypothesis) (23.1.0)\n",
      "Requirement already satisfied: sortedcontainers<3.0.0,>=2.1.0 in c:\\users\\dominika\\anaconda3\\lib\\site-packages (from hypothesis) (2.4.0)\n",
      "Note: you may need to restart the kernel to use updated packages.\n"
     ]
    }
   ],
   "source": [
    "%pip install hypothesis"
   ]
  },
  {
   "cell_type": "code",
   "execution_count": 1,
   "id": "2ceefa09",
   "metadata": {},
   "outputs": [],
   "source": [
    "import math\n",
    "import unittest\n",
    "import doctest\n",
    "import numpy as np\n",
    "import sympy as sp\n",
    "import matplotlib.pyplot as plt\n",
    "from ipywidgets import interact\n",
    "from hypothesis import given, strategies as st"
   ]
  },
  {
   "cell_type": "markdown",
   "id": "1a39d3f3",
   "metadata": {},
   "source": [
    "### Zadanie 1\n",
    "\n",
    "Przypomnij sobie zadanie o spirali archimedejskiej (zadanie 2 z listy 5).\n",
    "\n",
    "Spróbuj stworzyć interaktywny interfejs do wizualizacji tego, jak wybrane parametry wpływają na kształt spirali.\n",
    "\n",
    "Rozwiązanie umieść w komórce poniżej."
   ]
  },
  {
   "cell_type": "code",
   "execution_count": 82,
   "id": "4076f649",
   "metadata": {},
   "outputs": [
    {
     "data": {
      "application/vnd.jupyter.widget-view+json": {
       "model_id": "df3b3320efff4444ad8035ed92130b3a",
       "version_major": 2,
       "version_minor": 0
      },
      "text/plain": [
       "interactive(children=(FloatSlider(value=1.0, description='a', max=5.0, min=0.5, step=0.5), FloatSlider(value=0…"
      ]
     },
     "metadata": {},
     "output_type": "display_data"
    }
   ],
   "source": [
    "@interact(a=(0.5, 5, 0.5), b=(0, 5, 0.5), c=(13, 30, 1)) # parametry to np. : dziedzina funkcji, modyfikacja wzoru\n",
    "\n",
    "def rysuj(a=1, b=0, c=20):\n",
    "    theta = np.linspace(0, 6*math.pi, 1000)\n",
    "    r = theta*a + b\n",
    "    wykres = plt.subplot(111, projection='polar')\n",
    "    wykres.plot(theta, r, color='r', linewidth=3)\n",
    "    wykres.set_rmax(c)\n",
    "    wykres.grid(True)"
   ]
  },
  {
   "cell_type": "markdown",
   "id": "c9490bc8",
   "metadata": {},
   "source": [
    "### Zadanie 2\n",
    "\n",
    "Zaprojektuj testy jednostkowe sprawdzające, że funkcja `max` z Pythona działa dobrze dla list liczb całkowitych i zmiennoprzecinkowych bez `NaN`. Napisz przynajmniej 3 testy za pomocą modułu `unittest`. Kod testów umieść w komórce poniżej."
   ]
  },
  {
   "cell_type": "code",
   "execution_count": 85,
   "id": "eb82466d-97e1-4703-b86a-9c6d56f88988",
   "metadata": {},
   "outputs": [],
   "source": [
    "@unittest.FunctionTestCase\n",
    "def test_max():\n",
    "    # lista licz całokowitych\n",
    "    Lc = [4, 2, -11, 0, -3]\n",
    "    assert max(Lc) == 4, 'Wartość maksymalna jest nieprawidłowa' # assert sprawdza czy jest błąd i jeśli go nie ma, to przechodzi do daleszej części kodu, w przypadku błędu zatrzymuje program i zwraca błąd\n",
    "    \n",
    "    # lista liczb zmiennoprzecinkowych\n",
    "    Lz = [1.6, -9.1, 4.56]\n",
    "    assert max(Lz) == 4.56, 'Wartość maksymalna jest nieprawidłowa'\n",
    "    \n",
    "    # lista liczb całkowitych i zmiennoprzecinkowych\n",
    "    Lu = [4, 2, -11, 0, -3, 1.6, -9.1, 4.56]\n",
    "    assert max(Lu) == 4.56, 'Wartość maksymalna jest nieprawidłowa'\n",
    "    \n",
    "    # kilka takich samych wartości na liście\n",
    "    Ls = [12.01, 3.13, 4, 5, 5, 5, 12.01, 5]\n",
    "    assert max(Ls) == 12.01, 'Wartość maksymalna powinna być równa największej wartości bez względu na liczbę wystąpień'\n",
    "    \n",
    "    # lista jednoelementowa\n",
    "    Lj = [-3]\n",
    "    assert max(Lj) == -3, 'Wartość maksymalna listy jednoelementowej jest równa tej jednej wartości'"
   ]
  },
  {
   "cell_type": "markdown",
   "id": "0793e0ae-cd83-44d6-bc01-72da6dbcd0ce",
   "metadata": {},
   "source": [
    "Uruchomienie testów umieść w komórce poniżej."
   ]
  },
  {
   "cell_type": "code",
   "execution_count": 86,
   "id": "4e8cd72f-46e7-4508-92d2-c0ddd03fef5e",
   "metadata": {},
   "outputs": [
    {
     "name": "stderr",
     "output_type": "stream",
     "text": [
      ".\n",
      "----------------------------------------------------------------------\n",
      "Ran 1 test in 0.001s\n",
      "\n",
      "OK\n"
     ]
    }
   ],
   "source": [
    "suite = unittest.TestSuite()\n",
    "suite.addTest(test_max)\n",
    "assert unittest.TextTestRunner().run(suite)"
   ]
  },
  {
   "cell_type": "markdown",
   "id": "3c1b52a8",
   "metadata": {},
   "source": [
    "### Zadanie 3\n",
    "\n",
    "Przypomnij sobie zadanie o funkcjach do liczenia liczby dni pomiędzy datami (zadanie 1 lista 4). Rozbuduj funkcje `ile_dni` oraz `dzień_juliański` tak, aby zgłaszały odpowiednie wyjątki, gdy użytkownik ich źle użyje.\n",
    "\n",
    "Kod umieść w komórce poniżej."
   ]
  },
  {
   "cell_type": "code",
   "execution_count": 83,
   "id": "f4281b8c",
   "metadata": {},
   "outputs": [],
   "source": [
    "# rok przestępny gdy podzielny przez 4: jeśli podzielny przez 4 to luty [1, 29], jeśli nie to luty [1, 28]\n",
    "# styczeń, marzec, maj, lipiec, sierpień, październik, grudzień: [1, 31]\n",
    "# kwiecień, czerwiec, wrzesień, listopad: [1, 30]\n",
    "# miesiące: [1, 12] czyli M większe równe 1, mniejsze równe 12\n",
    "\n",
    "def wyjątki(D, M, R): # sprawdzamy poprawność daty    \n",
    "    if not (1 <= M <= 12):\n",
    "        raise ValueError(\"Nie istnieje taki miesiąc\") # raise - zgłaszanie wyjątku\n",
    "    elif R%4 == 0 and M == 2 and not (1 <= D <=28):\n",
    "        raise ValueError(\"Rok nie jest przestępny. Nie istnieje taki dzień\") \n",
    "    elif R%4 != 0 and M == 2 and not (1 <= D <=29):\n",
    "        raise ValueError(\"Nie istnieje taki dzień\")\n",
    "    elif M in [1, 3, 5, 7, 8, 10, 12] and not (1 <= D <=31):\n",
    "        raise ValueError(\"Nie istnieje taki dzień\")\n",
    "    elif M in [4, 6, 9, 11] and (1 <= D <=30):\n",
    "        raise ValueError(\"Nie istnieje taki dzień\")\n",
    "    \n",
    "    \n",
    "def dzień_juliański(D, M, R):\n",
    "    wyjątki(D, M, R) # wpisujemy funkcję w funkcji już po sprawdzeniu daty, jeśli jakiś wyjątek będzie zgłoszony, to funkcja nie zadziała\n",
    "    a = math.floor((14 - M)/12)\n",
    "    m = M + 12*a - 3\n",
    "    y = R + 4800 - a\n",
    "    dzień_juliański = D + math.floor((153*m + 2)/5) + 365*y + math.floor(y/4) - math.floor(y/100) + math.floor(y/400) - 32045\n",
    "    return dzień_juliański\n",
    "\n",
    "def ile_dni(data1, data2):\n",
    "    data_1 = dzień_juliański(data1[0], data1[1], data1[2])\n",
    "    data_2 = dzień_juliański(data2[0], data2[1], data2[2])\n",
    "    ile_dni = abs(data_1 - data_2)\n",
    "    return ile_dni"
   ]
  },
  {
   "cell_type": "code",
   "execution_count": 84,
   "id": "ab45f278-dc1f-475e-87f4-584f37e0b67c",
   "metadata": {
    "tags": []
   },
   "outputs": [
    {
     "ename": "ValueError",
     "evalue": "Rok nie jest przestępny. Nie istnieje taki dzień",
     "output_type": "error",
     "traceback": [
      "\u001b[1;31m---------------------------------------------------------------------------\u001b[0m",
      "\u001b[1;31mValueError\u001b[0m                                Traceback (most recent call last)",
      "Cell \u001b[1;32mIn[84], line 1\u001b[0m\n\u001b[1;32m----> 1\u001b[0m ile_dni((\u001b[38;5;241m29\u001b[39m, \u001b[38;5;241m2\u001b[39m, \u001b[38;5;241m2016\u001b[39m), (\u001b[38;5;241m3\u001b[39m, \u001b[38;5;241m3\u001b[39m, \u001b[38;5;241m2016\u001b[39m))\n",
      "Cell \u001b[1;32mIn[83], line 28\u001b[0m, in \u001b[0;36mile_dni\u001b[1;34m(data1, data2)\u001b[0m\n\u001b[0;32m     27\u001b[0m \u001b[38;5;28;01mdef\u001b[39;00m \u001b[38;5;21mile_dni\u001b[39m(data1, data2):\n\u001b[1;32m---> 28\u001b[0m     data_1 \u001b[38;5;241m=\u001b[39m dzień_juliański(data1[\u001b[38;5;241m0\u001b[39m], data1[\u001b[38;5;241m1\u001b[39m], data1[\u001b[38;5;241m2\u001b[39m])\n\u001b[0;32m     29\u001b[0m     data_2 \u001b[38;5;241m=\u001b[39m dzień_juliański(data2[\u001b[38;5;241m0\u001b[39m], data2[\u001b[38;5;241m1\u001b[39m], data2[\u001b[38;5;241m2\u001b[39m])\n\u001b[0;32m     30\u001b[0m     ile_dni \u001b[38;5;241m=\u001b[39m \u001b[38;5;28mabs\u001b[39m(data_1 \u001b[38;5;241m-\u001b[39m data_2)\n",
      "Cell \u001b[1;32mIn[83], line 20\u001b[0m, in \u001b[0;36mdzień_juliański\u001b[1;34m(D, M, R)\u001b[0m\n\u001b[0;32m     19\u001b[0m \u001b[38;5;28;01mdef\u001b[39;00m \u001b[38;5;21mdzień_juliański\u001b[39m(D, M, R):\n\u001b[1;32m---> 20\u001b[0m     wyjątki(D, M, R) \u001b[38;5;66;03m# wpisujemy funkcję w funkcji już po sprawdzeniu daty, jeśli jakiś wyjątek będzie zgłoszony, to funkcja nie zadziała\u001b[39;00m\n\u001b[0;32m     21\u001b[0m     a \u001b[38;5;241m=\u001b[39m math\u001b[38;5;241m.\u001b[39mfloor((\u001b[38;5;241m14\u001b[39m \u001b[38;5;241m-\u001b[39m M)\u001b[38;5;241m/\u001b[39m\u001b[38;5;241m12\u001b[39m)\n\u001b[0;32m     22\u001b[0m     m \u001b[38;5;241m=\u001b[39m M \u001b[38;5;241m+\u001b[39m \u001b[38;5;241m12\u001b[39m\u001b[38;5;241m*\u001b[39ma \u001b[38;5;241m-\u001b[39m \u001b[38;5;241m3\u001b[39m\n",
      "Cell \u001b[1;32mIn[83], line 10\u001b[0m, in \u001b[0;36mwyjątki\u001b[1;34m(D, M, R)\u001b[0m\n\u001b[0;32m      8\u001b[0m     \u001b[38;5;28;01mraise\u001b[39;00m \u001b[38;5;167;01mValueError\u001b[39;00m(\u001b[38;5;124m\"\u001b[39m\u001b[38;5;124mNie istnieje taki miesiąc\u001b[39m\u001b[38;5;124m\"\u001b[39m) \u001b[38;5;66;03m# raise - zgłaszanie wyjątku\u001b[39;00m\n\u001b[0;32m      9\u001b[0m \u001b[38;5;28;01melif\u001b[39;00m R\u001b[38;5;241m%\u001b[39m\u001b[38;5;241m4\u001b[39m \u001b[38;5;241m==\u001b[39m \u001b[38;5;241m0\u001b[39m \u001b[38;5;129;01mand\u001b[39;00m M \u001b[38;5;241m==\u001b[39m \u001b[38;5;241m2\u001b[39m \u001b[38;5;129;01mand\u001b[39;00m \u001b[38;5;129;01mnot\u001b[39;00m (\u001b[38;5;241m1\u001b[39m \u001b[38;5;241m<\u001b[39m\u001b[38;5;241m=\u001b[39m D \u001b[38;5;241m<\u001b[39m\u001b[38;5;241m=\u001b[39m\u001b[38;5;241m28\u001b[39m):\n\u001b[1;32m---> 10\u001b[0m     \u001b[38;5;28;01mraise\u001b[39;00m \u001b[38;5;167;01mValueError\u001b[39;00m(\u001b[38;5;124m\"\u001b[39m\u001b[38;5;124mRok nie jest przestępny. Nie istnieje taki dzień\u001b[39m\u001b[38;5;124m\"\u001b[39m) \n\u001b[0;32m     11\u001b[0m \u001b[38;5;28;01melif\u001b[39;00m R\u001b[38;5;241m%\u001b[39m\u001b[38;5;241m4\u001b[39m \u001b[38;5;241m!=\u001b[39m \u001b[38;5;241m0\u001b[39m \u001b[38;5;129;01mand\u001b[39;00m M \u001b[38;5;241m==\u001b[39m \u001b[38;5;241m2\u001b[39m \u001b[38;5;129;01mand\u001b[39;00m \u001b[38;5;129;01mnot\u001b[39;00m (\u001b[38;5;241m1\u001b[39m \u001b[38;5;241m<\u001b[39m\u001b[38;5;241m=\u001b[39m D \u001b[38;5;241m<\u001b[39m\u001b[38;5;241m=\u001b[39m\u001b[38;5;241m29\u001b[39m):\n\u001b[0;32m     12\u001b[0m     \u001b[38;5;28;01mraise\u001b[39;00m \u001b[38;5;167;01mValueError\u001b[39;00m(\u001b[38;5;124m\"\u001b[39m\u001b[38;5;124mNie istnieje taki dzień\u001b[39m\u001b[38;5;124m\"\u001b[39m)\n",
      "\u001b[1;31mValueError\u001b[0m: Rok nie jest przestępny. Nie istnieje taki dzień"
     ]
    }
   ],
   "source": [
    "ile_dni((29, 2, 2016), (3, 3, 2016))"
   ]
  },
  {
   "cell_type": "markdown",
   "id": "73e32195",
   "metadata": {},
   "source": [
    "### Zadanie 4\n",
    "\n",
    "Przypomnij sobie funkcję do wyliczania objętości hiperkuli (zadanie 5 lista 4). Dodaj do niej dokumentację opisującą użycie funkcji oraz przykładowe testy, które sprawdzisz modułem `doctest`.\n",
    "\n",
    "Rozwiązanie umieść w komórce poniżej."
   ]
  },
  {
   "cell_type": "markdown",
   "id": "798b2fb5-edb9-41ba-827b-e1921ea79a56",
   "metadata": {},
   "source": [
    "Zdefiniowania poniżej funkcja `hiperkula(r, n)` zwraca objętość V n-wymiarowej hiperkuli o promieniu długości r. Dane te są liczbami (float, int) przyjmowanymi od użytkowanika, który wywołuje podaną funkcję. Przykładowe wywołanie funkcji (z zadania 5 z listy 4):\n",
    "`hiperkula(1, 1) = 1.9999999999999998` czyli dla n = 1 i r = 1 objętość to V = 1.9999999999999998."
   ]
  },
  {
   "cell_type": "code",
   "execution_count": 87,
   "id": "9f2e7d0a",
   "metadata": {},
   "outputs": [],
   "source": [
    "def hiperkula(r, n):\n",
    "    \"\"\"\n",
    "    Funkcja wylicza objętość n-wymiarowej hiperkuli o promieniu długości r dla dowolnych liczb n większych równych zero oraz r większych od zera.\n",
    "    \n",
    "    >>> hiperkula(1, 1)\n",
    "    1.9999999999999998\n",
    "    \n",
    "    >>> hiperkula(2, 3)\n",
    "    33.510321638291124\n",
    "    \n",
    "    >>> hiperkula(5, 6)\n",
    "    80745.51218828077\n",
    "    \n",
    "    >>> hiperkula(1, 2)\n",
    "    3.141592653589793\n",
    "    \"\"\"\n",
    "    V = math.pi**(n/2)/math.gamma(n/2 + 1) * r**n\n",
    "    return V"
   ]
  },
  {
   "cell_type": "markdown",
   "id": "4312e388-11ae-42ec-90d7-d454f4a74427",
   "metadata": {},
   "source": [
    "Uruchom opracowane testy, aby sprawdzić, czy dobrze działają."
   ]
  },
  {
   "cell_type": "code",
   "execution_count": 88,
   "id": "301060f6-9805-4c03-9141-75c7e1a8a304",
   "metadata": {
    "tags": []
   },
   "outputs": [
    {
     "data": {
      "text/plain": [
       "TestResults(failed=0, attempted=4)"
      ]
     },
     "execution_count": 88,
     "metadata": {},
     "output_type": "execute_result"
    }
   ],
   "source": [
    "doctest.testmod()"
   ]
  },
  {
   "cell_type": "markdown",
   "id": "7efa91a8",
   "metadata": {},
   "source": [
    "### Zadanie 5\n",
    "\n",
    "Wybierz dowolne zadanie z kursu Analiza matematyczna, spróbuj je rozwiązać za pomocą biblioteki SymPy.\n",
    "\n",
    "Treść zadania umieść w komórce tekstowej poniżej, zadbaj o formatowanie tekstu oraz wzorów."
   ]
  },
  {
   "cell_type": "markdown",
   "id": "f7eddd24-6b9e-4b54-807a-184d46b7a5d4",
   "metadata": {},
   "source": [
    "#### Znajdź asymptoty funkcji $ f(x) = \\frac {x^3}{(x+1)^2} $.\n",
    "\n",
    "Funkcja ma asymptopę pionową lewostronną w $x_{0} ∈ R$ wtedy i tylko wtedy gdy $\\lim_{x \\to x_{0}-} f(x) = +∞$ lub $-∞$.\n",
    "\n",
    "Funkcja ma asymptopę pionową prawostronną w $x_{0} ∈ R$ wtedy i tylko wtedy gdy $\\lim_{x \\to x_{0}+} f(x) = +∞$ lub $-∞$.\n",
    "\n",
    "Funkcja ma asymptopę pionową obustronną w $x_{0} ∈ R$ wtedy i tylko wtedy gdy $f(x)$ ma asymptotę lewo- i prawostronną w $x_{0} ∈ R$.\n",
    "\n",
    "$y = Ax + B$, gdzie $A,B ∈ R$ jest asymptotą ukośną funkcji $f(x)$ w $+∞$ wtedy i tylko wtedy gdy $A = \\lim_{x \\to +∞} \\frac{f(x)}{x}$ oraz $B = \\lim_{x \\to +∞} (f(x) - Ax)$, analogicznie definiujemy asymptotę ukośną w $-∞$. Jeśli $A = 0$ wtedy asymptotę ukośną nazywamy asymptotą pionową."
   ]
  },
  {
   "cell_type": "markdown",
   "id": "c1e34b3d-4fc7-4d1d-bac7-d53180d7593d",
   "metadata": {
    "tags": []
   },
   "source": [
    "##### Funkcje z biblioteki SymPy:\n",
    "* **symbols** robimy np. x jako symbol\n",
    "* **Function** robimy funkcję, można wtedy napisać f(x)\n",
    "* **expand** mnożenie przez nawias\n",
    "* **factor** wyciąganie przed nawias\n",
    "* **diff** pochodna, jeśli po funkcji damy przecinek można pokazać, co jest naszym x, jeśli mamy parametr w funkcji\n",
    "* **exp(x)** to e**x\n",
    "* **sin(x), cos(x)** funkcje trygonometryczne\n",
    "* **integrate** całka nieoznaczona, jeśli damy po przecinku nawias z danymi to mamy całkę oznaczoną\n",
    "* **limit(x, x, 0)** granica z x przy x dążącym do 0, granice oznaczone(?) też działają, dir = +/- granica prawo-/lewostronna\n",
    "* **oo** nieskończoność, -oo to minus nieskończoność\n",
    "* **Eq** wpisujemy po solve gdy rozwiązujemy równanie równe coś innego niż 0 np. solve(Eq(x^2, 16)), można też z parametrem, zwraca też pierwiastki zespolone\n",
    "* **solve** rozwiązywanie równań, gdy przyrównujemy do 0 to nic nie piszemy\n",
    "* **print(2*5 + 6)** wyświetli rozwiązanie"
   ]
  },
  {
   "cell_type": "markdown",
   "id": "57e035bd",
   "metadata": {},
   "source": [
    "Rozwiązanie wybranego zadania umieść w komórce poniżej."
   ]
  },
  {
   "cell_type": "code",
   "execution_count": 92,
   "id": "767b23c8",
   "metadata": {},
   "outputs": [],
   "source": [
    "x = sp.symbols(\"x\")\n",
    "f = x**3 / (x+1)**2\n",
    "\n",
    "from sympy import oo # importujemy nieskończoność, żeby móc zapisać minus nieskończoność\n",
    "\n",
    "# dziedziną funkcji f są x∈ R\\{-1} więc sprawdzamy czy istnieje asymptota pionowa w x0 = -1\n",
    "x0 = -1\n",
    "\n",
    "lewa = sp.limit(f, x, x0, dir='-')\n",
    "prawa = sp.limit(f, x, x0, dir='+')\n",
    "Aplus = sp.limit(f/x, x, oo)\n",
    "Bplus = sp.limit(f - Aplus*x, x, oo)\n",
    "Aminus = sp.limit(f/x, x, oo, dir='-')\n",
    "Bminus = sp.limit(f - Aminus*x, x, oo, dir='-')"
   ]
  },
  {
   "cell_type": "code",
   "execution_count": 96,
   "id": "e59f77e5-cc6d-4f75-a2b3-ed3a57a9e4c0",
   "metadata": {
    "tags": []
   },
   "outputs": [
    {
     "name": "stdout",
     "output_type": "stream",
     "text": [
      "f(x) ma asymptotę pionową lewostronną w -1\n",
      "f(x) ma asymptotę pionową prawostronną w -1\n",
      "więc f(x) ma asymptotę pionową obustronną w -1.\n"
     ]
    }
   ],
   "source": [
    "if lewa == oo or lewa == -oo:\n",
    "    print(f'f(x) ma asymptotę pionową lewostronną w {x0}')\n",
    "else:\n",
    "    print('f(x) nie ma asymptoty pionowej lewostronnej.')\n",
    "\n",
    "if prawa == sp.oo or prawa == -oo:\n",
    "    print(f'f(x) ma asymptotę pionową prawostronną w {x0}')\n",
    "else:\n",
    "    print('f(x) nie ma asymptoty pionowej prawostronnej.')\n",
    "\n",
    "if (lewa == oo and prawa == oo) or (lewa == -oo and prawa == oo) or (lewa == oo and prawa == -oo) or (lewa == -oo and prawa == -oo):\n",
    "    print(f'więc f(x) ma asymptotę pionową obustronną w {x0}.')"
   ]
  },
  {
   "cell_type": "code",
   "execution_count": 71,
   "id": "bc3c4c69-0999-4a8d-8c75-80a65fde3ac5",
   "metadata": {
    "tags": []
   },
   "outputs": [
    {
     "name": "stdout",
     "output_type": "stream",
     "text": [
      "f(x) ma asymptotę ukośną y = x - 2 w +∞.\n"
     ]
    }
   ],
   "source": [
    "# asymptota ukośna w plus nieskończoności\n",
    "\n",
    "if Aplus == oo or Aplus == -oo:\n",
    "    print('Brak asymptoty ukośnej w +∞.')\n",
    "    \n",
    "elif Aplus == 0:\n",
    "    print(f'f(x) ma asymptotę poziomą y = {Bplus} w +∞.')\n",
    "    \n",
    "elif Aplus == 1:\n",
    "    \n",
    "    if Bplus > 0:\n",
    "        print(f'f(x) ma asymptotę ukośną y = x + {Bplus} w +∞.')\n",
    "    elif Bplus == 0:\n",
    "        print(f'f(x) ma asymptotę ukośną y = x w +∞')\n",
    "    else:\n",
    "        B = abs(Bplus)\n",
    "        print(f'f(x) ma asymptotę ukośną y = x - {B} w +∞.')\n",
    "        \n",
    "else:\n",
    "    \n",
    "    if Bplus > 0:\n",
    "        print(f'f(x) ma asymptotę ukośną y = {Aplus}x + {Bplus} w +∞.')\n",
    "    elif Bplus == 0:\n",
    "        print(f'f(x) ma asymptotę ukośną y = {Aplus}x w +∞.')\n",
    "    else:\n",
    "        B = abs(Bplus)\n",
    "        print(f'f(x) ma asymptotę ukośną y = {Aplus}x - {B} w +∞.')"
   ]
  },
  {
   "cell_type": "code",
   "execution_count": 72,
   "id": "a57411f2-a1a3-4368-aa59-5b4599bdf033",
   "metadata": {
    "tags": []
   },
   "outputs": [
    {
     "name": "stdout",
     "output_type": "stream",
     "text": [
      "f(x) ma asymptotę ukośną y = x - 2 w -∞.\n"
     ]
    }
   ],
   "source": [
    "# asymptota ukośna w minus nieskończoności\n",
    "\n",
    "if Aminus == oo or Aminus == -oo:\n",
    "    print('Brak asymptoty ukośnej w -∞.')\n",
    "    \n",
    "elif Aminus == 0:\n",
    "    print(f'f(x) ma asymptotę poziomą y = {Bminus} w -∞.')\n",
    "    \n",
    "elif Aminus == 1:\n",
    "    \n",
    "    if Bminus > 0:\n",
    "        print(f'f(x) ma asymptotę ukośną y = x + {Bminus} w -∞.')\n",
    "    elif Bminus == 0:\n",
    "        print(f'f(x) ma asymptotę ukośną y = x w -∞.')\n",
    "    else:\n",
    "        B = abs(Bminus)\n",
    "        print(f'f(x) ma asymptotę ukośną y = x - {B} w -∞.')\n",
    "        \n",
    "else:\n",
    "    \n",
    "    if Bminus > 0:\n",
    "        print(f'f(x) ma asymptotę ukośną y = {Aminus}x + {Bminus} w -∞.')\n",
    "    elif Bminus == 0:\n",
    "        print(f'f(x) ma asymptotę ukośną y = {Aminus}x w -∞.')\n",
    "    else:\n",
    "        B = abs(Bminus)\n",
    "        print(f'f(x) ma asymptotę ukośną y = {Aminus}x - {B} w -∞.')"
   ]
  },
  {
   "cell_type": "code",
   "execution_count": 89,
   "id": "28383eea-32cf-44f9-8d9e-cc1c85b19e8d",
   "metadata": {
    "tags": []
   },
   "outputs": [
    {
     "name": "stdout",
     "output_type": "stream",
     "text": [
      "f(x) ma asymptotę ukośną y = x - 2 w +∞ i -∞.\n"
     ]
    }
   ],
   "source": [
    "if Aplus == Aminus == 0 and Bplus == Bminus:\n",
    "    print(f'f(x) ma asymptotę poziomą y = {Bplus} w +∞ i -∞.') # nieważne czy wpiszemy Aplus czy Aminus, bo są równe, analogicznie B\n",
    "    \n",
    "elif Aplus == Aminus == 1 and Bplus == Bminus:\n",
    "    \n",
    "    if Bplus > 0:\n",
    "        print(f'f(x) ma asymptotę ukośną y = x + {Bplus} w +∞ i -∞.')\n",
    "    elif Bplus == 0:\n",
    "        print(f'f(x) ma asymptotę ukośną y = x w +∞ i -∞.')\n",
    "    else:\n",
    "        B = abs(Bplus)\n",
    "        print(f'f(x) ma asymptotę ukośną y = x - {B} w +∞ i -∞.')\n",
    "    \n",
    "elif Aplus == Aminus and Bplus == Bminus:\n",
    "    print(f'f(x) ma asymptotę ukośną y = {Aplus}x + {Bplus} w +∞ i -∞.')"
   ]
  },
  {
   "cell_type": "markdown",
   "id": "42ae7552-75c8-4a6a-a3d9-b41a3e212b9e",
   "metadata": {
    "tags": []
   },
   "source": [
    "**Odp. Funkcja f(x) ma asymptotę pionową obustronną w $x_{0} = -1$ oraz astymptotę ukośną $y = x - 2$ w $+∞$ i $-∞$.**"
   ]
  },
  {
   "cell_type": "markdown",
   "id": "3d7a18a0",
   "metadata": {},
   "source": [
    "<div style=\"text-align: right\"> Powodzenia!<br><i>Zespół kursu Wstęp do programowania</i></div>"
   ]
  }
 ],
 "metadata": {
  "kernelspec": {
   "display_name": "Python 3 (ipykernel)",
   "language": "python",
   "name": "python3"
  },
  "language_info": {
   "codemirror_mode": {
    "name": "ipython",
    "version": 3
   },
   "file_extension": ".py",
   "mimetype": "text/x-python",
   "name": "python",
   "nbconvert_exporter": "python",
   "pygments_lexer": "ipython3",
   "version": "3.11.5"
  }
 },
 "nbformat": 4,
 "nbformat_minor": 5
}
