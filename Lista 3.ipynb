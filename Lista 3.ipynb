{
 "cells": [
  {
   "cell_type": "markdown",
   "id": "817cd8f2",
   "metadata": {},
   "source": [
    "# Wstęp do programowania\n",
    "\n",
    "## Lista 3\n",
    "\n",
    "Uzupełnij swoje dane poniżej, następnie przeczytaj treść zadań i umieść rozwiązania w odpowidenich komórkach pozostawionych w tym celu pod treścią. Pamiętaj dbać o specyfikację, czyli nazwy zmiennych oraz odpowiednie rozmieszczenie komórek. Jeśli uruchomisz wszystkie komórki, dokument powinien działać bez błędów."
   ]
  },
  {
   "cell_type": "markdown",
   "id": "76926f19",
   "metadata": {},
   "source": [
    "  * **Imię:** Dominika\n",
    "  * **Nazwisko:** Szulc\n",
    "  * **Numer indeksu:** 277507"
   ]
  },
  {
   "cell_type": "markdown",
   "id": "f179d9a1",
   "metadata": {},
   "source": [
    "W rozwiązaniach zadań możesz korzystać z biblioteki `math`. Staraj się nie korzystać z materiału dotyczącego 4 wykładu, czyli funkcji oraz instrukcji sterujących. Spróbuj rozwiązać zadania wykorzystując struktury składane."
   ]
  },
  {
   "cell_type": "code",
   "execution_count": 91,
   "id": "2ceefa09",
   "metadata": {},
   "outputs": [],
   "source": [
    "import math"
   ]
  },
  {
   "cell_type": "markdown",
   "id": "7e8a62e4-59fc-42e0-959b-4bd9ebd14480",
   "metadata": {},
   "source": [
    "### Zadanie 1\n",
    "Zapoznaj się z dokumentacją funkcji `zip` oraz przykładem poniżej."
   ]
  },
  {
   "cell_type": "code",
   "execution_count": 2,
   "id": "3c4930a6-67ba-4a7c-9a9b-89e45231a4e2",
   "metadata": {},
   "outputs": [
    {
     "data": {
      "text/plain": [
       "[(1, 'a'), (2, 'b'), (3, 'c')]"
      ]
     },
     "execution_count": 2,
     "metadata": {},
     "output_type": "execute_result"
    }
   ],
   "source": [
    "lista = [1, 2, 3]\n",
    "inna = ['a', 'b', 'c']\n",
    "list(zip(lista, inna))"
   ]
  },
  {
   "cell_type": "markdown",
   "id": "f505ab50-5041-4281-9b4e-de3a30e48520",
   "metadata": {},
   "source": [
    "Opisz własnymi słowami, jak na podstawie listy `L`, powstanie lista\n",
    "```python\n",
    "list(zip(L[1:], L[:-1]))\n",
    "```\n",
    "\n",
    "Opis umieść w komórce poniżej. Możesz korzystać ze wzorów i fragmentów kodu."
   ]
  },
  {
   "cell_type": "markdown",
   "id": "310f6ab7-3e3c-425a-9920-4da4368825ae",
   "metadata": {},
   "source": [
    "Na podstawie listy L dostaniemy listę, w której pierwszy wyraz listy L będzie sparowany z zerowym wyrazem, drugi z pierwszym, trzeci z drugim i tak dalej, do momentu aż ostatni wyraz listy L zostanie połączony z wyrazem przedostatnim. [ a:b ] oznacza od a do b-1. Więc [ 1 : ] oznacza od pierwszego do końca, a  [ : -1 ] od początku do przedostatniego. Np. :"
   ]
  },
  {
   "cell_type": "code",
   "execution_count": 6,
   "id": "e8826b66",
   "metadata": {},
   "outputs": [
    {
     "data": {
      "text/plain": [
       "[(2, 1), (3, 2), (4, 3), (5, 4)]"
      ]
     },
     "execution_count": 6,
     "metadata": {},
     "output_type": "execute_result"
    }
   ],
   "source": [
    "L = [1, 2, 3, 4, 5]\n",
    "list(zip(L[1:], L[:-1])) #[1:] oznacza od pierwszego do końca, gdzie pierwszym wyrazem jest 2, ponieważ 1 to wyraz zerowy.\n",
    "# natomiast [:-1] oznacza od początku do przedostatniego"
   ]
  },
  {
   "cell_type": "markdown",
   "id": "3aa02a87-066e-4e27-a9d2-1405686dd1f8",
   "metadata": {},
   "source": [
    "### Zadanie 2\n",
    "\n",
    "Niech\n",
    "$$X_n = \\sum_{k=1}^n \\frac{(-1)^k}{k}.$$\n",
    "Zdefiniuj listę `L` wartości ciągu $X_n$ dla $n=1, \\ldots, 100$.\n",
    "\n",
    "Rozwiązanie umieść w komórce poniżej."
   ]
  },
  {
   "cell_type": "code",
   "execution_count": 92,
   "id": "48852b7e",
   "metadata": {},
   "outputs": [
    {
     "name": "stdout",
     "output_type": "stream",
     "text": [
      "-1.0\n",
      "-0.5\n",
      "-0.8333333333333333\n",
      "-0.5833333333333333\n",
      "-0.7833333333333332\n",
      "-0.6166666666666666\n",
      "-0.7595238095238095\n",
      "-0.6345238095238095\n",
      "-0.7456349206349207\n",
      "-0.6456349206349207\n",
      "-0.7365440115440116\n",
      "-0.6532106782106782\n",
      "-0.7301337551337552\n",
      "-0.6587051837051838\n",
      "-0.7253718503718505\n",
      "-0.6628718503718505\n",
      "-0.7216953797836152\n",
      "-0.6661398242280596\n",
      "-0.718771403175428\n",
      "-0.6687714031754279\n",
      "-0.7163904507944756\n",
      "-0.6709359053399302\n",
      "-0.7144141662094954\n",
      "-0.6727474995428288\n",
      "-0.7127474995428288\n",
      "-0.6742859610812904\n",
      "-0.7113229981183273\n",
      "-0.6756087124040416\n",
      "-0.7100914710247312\n",
      "-0.6767581376913979\n",
      "-0.7090162022075269\n",
      "-0.6777662022075269\n",
      "-0.7080692325105572\n",
      "-0.6786574678046748\n",
      "-0.7072288963761034\n",
      "-0.6794511185983256\n",
      "-0.7064781456253526\n",
      "-0.6801623561516684\n",
      "-0.7058033817926941\n",
      "-0.6808033817926941\n",
      "-0.7051936256951331\n",
      "-0.6813841018856093\n",
      "-0.7046399158390977\n",
      "-0.681912643111825\n",
      "-0.7041348653340472\n",
      "-0.6823957348992646\n",
      "-0.7036723306439455\n",
      "-0.6828389973106122\n",
      "-0.7032471605759183\n",
      "-0.6832471605759183\n",
      "-0.7028550037131732\n",
      "-0.683624234482404\n",
      "-0.7024921590107058\n",
      "-0.6839736404921873\n",
      "-0.7021554586740055\n",
      "-0.6842983158168626\n",
      "-0.7018421754659854\n",
      "-0.6846007961556405\n",
      "-0.7015499486980133\n",
      "-0.6848832820313466\n",
      "-0.7012767246542975\n",
      "-0.685147692396233\n",
      "-0.7010207082692488\n",
      "-0.6853957082692488\n",
      "-0.7007803236538641\n",
      "-0.685628808502349\n",
      "-0.7005541816366774\n",
      "-0.6858482992837363\n",
      "-0.7003410529069246\n",
      "-0.6860553386212104\n",
      "-0.7001398456634639\n",
      "-0.686250956774575\n",
      "-0.6999495869115613\n",
      "-0.6864360733980478\n",
      "-0.6997694067313811\n",
      "-0.686611511994539\n",
      "-0.699598524981552\n",
      "-0.6867780121610392\n",
      "-0.6994362400091404\n",
      "-0.6869362400091404\n",
      "-0.6992819190214861\n",
      "-0.6870867970702665\n",
      "-0.6991349898413509\n",
      "-0.687230227936589\n",
      "-0.698994933818942\n",
      "-0.6873670268421977\n",
      "-0.698861279715761\n",
      "-0.6874976433521246\n",
      "-0.6987335984083044\n",
      "-0.6876224872971933\n",
      "-0.6986114982862043\n",
      "-0.6877419330688129\n",
      "-0.6984946212408559\n",
      "-0.6878563233685155\n",
      "-0.6983826391579893\n",
      "-0.6879659724913226\n",
      "-0.6982752508418381\n",
      "-0.688071169209185\n",
      "-0.698172179310195\n",
      "-0.688172179310195\n"
     ]
    }
   ],
   "source": [
    "# n określa ile liczb podstawiamy za k czyli np. dla n=2 mamy (-1)**1/1 + (-1)**2/2 = -0.5\n",
    "# dla n=3 powinno być -0.5 + (-0.(3)) czyli około -0.83\n",
    "L = [] # lista jest pusta, bo będziemy do niej wkładać elementy\n",
    "suma = 0 # początkowo suma wynosi 0, żebyśmy byli w stanie obliczyć X_1\n",
    "for n in range(1, 101):\n",
    "    suma = suma + ((-1)**n)/n # elementy listy automatycznie się sumują\n",
    "    L.append(suma) # append dodaje kolejny element na końcu istniejącej listy\n",
    "    print(suma) "
   ]
  },
  {
   "cell_type": "markdown",
   "id": "87e972a7",
   "metadata": {},
   "source": [
    "### Zadanie 3\n",
    "\n",
    "#### podpunkt a\n",
    "\n",
    "Czy istnieje trójkąt pitagorejski (prostokątny o całkowitych długościach boków) o obwodzie równym 1000?\n",
    "\n",
    "Podpowiedź 1: spróbuj wygenerować wszystkie trójkąty o bokach całkowitych i obwodzie równym 1000 za pomocą list składanych --- czy znajdziesz wśród nich jakiś trójkąt prostokątny?\n",
    "\n",
    "Podpowiedź 2: rozważ następujący zbiór szukanych trójkątów zapisanych jako trójkę długości boków:\n",
    "$$\\{(a, b, c): a \\in \\{1, \\ldots, 1000\\}, b \\in \\{1, \\ldots, 1000\\}, c \\in \\{1, \\ldots, 1000\\}, a+b+c = 1000 \\text{ i } a^2 + b^2 = c^2 \\},$$\n",
    "czy potrafisz:\n",
    "\n",
    "  - Wyeliminować $c$ z tego wzoru, korzystając z tego, że znasz obwód trójkąta?\n",
    "  - Dodać warunek, który pozwoli traktować $(a, b, c)$ oraz $(b, a, c)$ jako ten sam trójkąt? Postaraj się zapisać go odpowiednio dobierając wartości, do jakich może należeć $b$.\n",
    "  - Wytłumaczyć, dlaczego wartości $a$ i $b$ nie muszą osiągać dużych wartości (np.: wartości $997$).\n",
    "  \n",
    "Rozwiązanie umieść w komórce poniżej."
   ]
  },
  {
   "cell_type": "code",
   "execution_count": 24,
   "id": "3edd2915",
   "metadata": {},
   "outputs": [
    {
     "name": "stdout",
     "output_type": "stream",
     "text": [
      "[(200, 375, 425)]\n"
     ]
    }
   ],
   "source": [
    "trójkąt = [(a, b, c) for a in range(1, 1001)\n",
    "                     for b in range(1, 1001)\n",
    "                     for c in range(1, 1001)\n",
    "                     if a<b<c and a+b+c==1000 and a**2+b**2==c**2]\n",
    "print(trójkąt)"
   ]
  },
  {
   "cell_type": "markdown",
   "id": "9938790c",
   "metadata": {},
   "source": [
    "#### podpunkt b\n",
    "\n",
    "Spośród trójkątów pitagorejskich o najdłuższym boku nieprzekraczającym $50$ wybierz jeden o najmniejszym i największym polu powierzchni. Ile razy większy od najmniejszego jest największy trójkąt?\n",
    "\n",
    "Podpowiedź: pamiętaj, że możesz sortować listy za pomocą metody `sort` lub funkcji `sorted`.\n",
    "\n",
    "Rozwiązanie umieść w komórce poniżej."
   ]
  },
  {
   "cell_type": "code",
   "execution_count": 53,
   "id": "a53cd48a",
   "metadata": {},
   "outputs": [
    {
     "name": "stdout",
     "output_type": "stream",
     "text": [
      "100.0\n"
     ]
    }
   ],
   "source": [
    "# boki a oraz b są przyprostokątnymi, natomiast c jest przeciwprostokątną. Stąd P = (a*b)/2\n",
    "\n",
    "P = [(a*b/2) for a in range(1, 51)\n",
    "             for b in range(1, 51)\n",
    "             for c in range(1, 51)\n",
    "             if a<b<c and a**2 + b**2 == c**2]\n",
    "P.sort()\n",
    "\n",
    "ile_razy = max(P)/min(P)\n",
    "print(ile_razy)"
   ]
  },
  {
   "cell_type": "markdown",
   "id": "8dc2854c-223a-44ff-ae6c-a8f31e8af5bd",
   "metadata": {},
   "source": [
    "### Zadanie 4\n",
    "\n",
    "Załóżmy, że w zmiennej `S` znajduje się zbiór niektórych województw, natomiast w zmiennej `D` słownik, który każdemu województwu przyporządkowuje zbiór miast, w których znajduje się siedziba władz wojewódzkich. Obie zmienne zdefiniowane są w komórce poniżej."
   ]
  },
  {
   "cell_type": "code",
   "execution_count": 2,
   "id": "93258632-8095-41e5-ae56-9ad4d58c9aff",
   "metadata": {
    "tags": []
   },
   "outputs": [],
   "source": [
    "S = {'dolnośląskie', 'lubuskie', 'wielkopolskie'}\n",
    "D = {\n",
    "    'dolnośląskie': {'Wrocław'},\n",
    "    'kujawsko-pomorskie': {'Bydgoszcz', 'Toruń'},\n",
    "    'lubelskie': {'Lublin'},\n",
    "    'lubuskie': {'Gorzów Wielkopolski', 'Zielona Góra'},\n",
    "    'łódzkie': {'Łódź'},\n",
    "    'małopolskie': {'Kraków'},\n",
    "    'mazowieckie': {'Warszawa'},\n",
    "    'opolskie': {'Opole'},\n",
    "    'podkarpackie': {'Rzeszów'},\n",
    "    'podlaskie': {'Białystok'},\n",
    "    'pomorskie': {'Gdańsk'},\n",
    "    'śląskie': {'Katowice'},\n",
    "    'świętokrzyskie': {'Kielce'},\n",
    "    'warmińsko-mazurskie': {'Olsztyn'},\n",
    "    'wielkopolskie': {'Poznań'},\n",
    "    'zachodniopomorskie': {'Szczecin'}\n",
    "}"
   ]
  },
  {
   "cell_type": "markdown",
   "id": "9e9220ce-9d75-41f4-aa44-b41ae1b971bc",
   "metadata": {},
   "source": [
    "#### podpunkt a\n",
    "\n",
    "Stwórz zbiór miast, w których znajdują się siedziby władz województw ze słownika `S`. Rozwiązanie umieść w komórce poniżej."
   ]
  },
  {
   "cell_type": "code",
   "execution_count": 4,
   "id": "d4ee4e2c",
   "metadata": {
    "tags": []
   },
   "outputs": [
    {
     "name": "stdout",
     "output_type": "stream",
     "text": [
      "{'Wrocław', 'Zielona Góra', 'Poznań', 'Gorzów Wielkopolski'}\n"
     ]
    }
   ],
   "source": [
    "miasta = set()\n",
    "for w in S:\n",
    "    if w in D:\n",
    "        miasta.update(D[w]) # update to append dla słownika\n",
    "print(miasta)\n",
    "# zbiór nie zwraca elementów w kolejności, ponieważ nie przypisuje sobie kolejności do elementów, jeśli chcemy zachować kolejność, możemy stworzyć listę zamiast zbioru"
   ]
  },
  {
   "cell_type": "markdown",
   "id": "c429d730-8799-41c2-b1dd-049578ea016e",
   "metadata": {},
   "source": [
    "#### podpunkt b\n",
    "\n",
    "Zdefiniujmy zbiór miast."
   ]
  },
  {
   "cell_type": "code",
   "execution_count": 6,
   "id": "2f19ca65-af76-429e-9b2b-f484a3cfaff9",
   "metadata": {
    "tags": []
   },
   "outputs": [],
   "source": [
    "M = {'Wrocław', 'Opole', 'Zielona Góra', 'Gorzów Wielkopolski'}"
   ]
  },
  {
   "cell_type": "markdown",
   "id": "dc60b47b-d5ce-4053-ba02-4ff35ab4f7b9",
   "metadata": {},
   "source": [
    "Wykorzystując słownik `D` znajdź zbiór województw, których siedziby władz znajdują się w zbiorze `M`. Rozwiązanie umieść w komórce poniżej."
   ]
  },
  {
   "cell_type": "code",
   "execution_count": 7,
   "id": "714dab56",
   "metadata": {
    "tags": []
   },
   "outputs": [
    {
     "data": {
      "text/plain": [
       "{'dolnośląskie', 'lubuskie', 'opolskie'}"
      ]
     },
     "execution_count": 7,
     "metadata": {},
     "output_type": "execute_result"
    }
   ],
   "source": [
    "# & oznacza przekrój dwóch zbiorów, czyli zwraca elementy wspólne dla tych zbiorów\n",
    "# w tym przypadku chcemy przekrój zbioru M i zbioru miast ze słowanika S\n",
    "województwa = {w for w, m in D.items() if m & M} # w zbiorach kolejność elementów nie jest stała\n",
    "województwa"
   ]
  },
  {
   "cell_type": "markdown",
   "id": "e8f7447b-7c95-41d3-b87c-a1cf3c0ce71d",
   "metadata": {},
   "source": [
    "### Zadanie 5\n",
    "\n",
    "Stwórz słownik, w którym kluczami są kąty nachylenia do dodatniej półosi OX w stopniach, natomiast wartościami współrzędne 101 punktów równomiernie rozmieszczonych na okręgu jednostkowym. Przynajmniej jeden punkt powinien leżeć na dodatniej półosi OX. Rozwiązanie umieść w komórce poniżej."
   ]
  },
  {
   "cell_type": "code",
   "execution_count": 10,
   "id": "806c0f94-da09-42c1-9efb-18489efe084f",
   "metadata": {
    "tags": []
   },
   "outputs": [],
   "source": [
    "# okrąg jednostkowy to taki o promieniu r=1 - długość przeciwprostokątnej\n",
    "# równanie x**2 + y**2 = 1 jest spełnione dla każdego punktu leżącego na tym okręgu\n",
    "# cosβ = x/r = x/1 = x, analogicznie mamy sinβ = y\n",
    "# w przedziale [0, 101), biorąc jedynie liczby całkowite mamy 101 elementów\n",
    "# {β : (x, y)} gdzie β = (360/101)*n, natomiast x = cosβ i y = sinβ\n",
    "import math\n",
    "punkty = {\n",
    "          ((360/101)*n) : (math.cos(math.radians(360/101)*n), math.sin(math.radians(360/101)*n))\n",
    "          for n in range(0, 101)\n",
    "         }"
   ]
  },
  {
   "cell_type": "markdown",
   "id": "bddd6220-13ea-43fb-a42c-fdf89fc8168a",
   "metadata": {},
   "source": [
    "Sprawdź niektóre punkty, aby upewnić się, że dobrze rozwiązałeś zadanie."
   ]
  },
  {
   "cell_type": "code",
   "execution_count": 11,
   "id": "629789c8-7e80-453b-9f88-7e9b73e93105",
   "metadata": {
    "tags": []
   },
   "outputs": [
    {
     "data": {
      "text/plain": [
       "False"
      ]
     },
     "execution_count": 11,
     "metadata": {},
     "output_type": "execute_result"
    }
   ],
   "source": [
    "punkty[(360/101)*0] == (0, 1)  # powinniśmy zobaczyć True               JEST BŁĄD POWINNO BYĆ FALSE!!!"
   ]
  },
  {
   "cell_type": "code",
   "execution_count": 95,
   "id": "94af2300",
   "metadata": {},
   "outputs": [
    {
     "data": {
      "text/plain": [
       "(0.9922698723632765, 0.12409875261325935)"
      ]
     },
     "execution_count": 95,
     "metadata": {},
     "output_type": "execute_result"
    }
   ],
   "source": [
    "punkty[(360/101)*2]"
   ]
  },
  {
   "cell_type": "code",
   "execution_count": 96,
   "id": "c08f3598",
   "metadata": {},
   "outputs": [
    {
     "data": {
      "text/plain": [
       "(0.9980655971335943, -0.0621696374314802)"
      ]
     },
     "execution_count": 96,
     "metadata": {},
     "output_type": "execute_result"
    }
   ],
   "source": [
    "punkty[(360/101)*100]"
   ]
  },
  {
   "cell_type": "markdown",
   "id": "3d7a18a0",
   "metadata": {},
   "source": [
    "\n",
    "<div style=\"text-align: right\"> Powodzenia!<br><i>Zespół kursu Wstęp do programowania</i></div>"
   ]
  }
 ],
 "metadata": {
  "kernelspec": {
   "display_name": "Python 3 (ipykernel)",
   "language": "python",
   "name": "python3"
  },
  "language_info": {
   "codemirror_mode": {
    "name": "ipython",
    "version": 3
   },
   "file_extension": ".py",
   "mimetype": "text/x-python",
   "name": "python",
   "nbconvert_exporter": "python",
   "pygments_lexer": "ipython3",
   "version": "3.11.5"
  }
 },
 "nbformat": 4,
 "nbformat_minor": 5
}
